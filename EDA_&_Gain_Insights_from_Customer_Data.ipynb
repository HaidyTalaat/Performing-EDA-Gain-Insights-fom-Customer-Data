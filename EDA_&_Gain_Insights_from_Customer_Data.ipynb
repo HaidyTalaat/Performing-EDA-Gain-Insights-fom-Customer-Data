{
  "cells": [
    {
      "cell_type": "markdown",
      "metadata": {
        "id": "view-in-github",
        "colab_type": "text"
      },
      "source": [
        "<a href=\"https://colab.research.google.com/github/HaidyTalaat/Performing-EDA-Gain-Insights-fom-Customer-Data/blob/main/EDA_%26_Gain_Insights_from_Customer_Data.ipynb\" target=\"_parent\"><img src=\"https://colab.research.google.com/assets/colab-badge.svg\" alt=\"Open In Colab\"/></a>"
      ]
    },
    {
      "cell_type": "markdown",
      "metadata": {
        "id": "3QhW-lAgNRj8"
      },
      "source": [
        "# **1. About Dataset**\n",
        ">**The \"E-commerce Customer Behavior and Purchase Dataset\" is a synthetic dataset that simulates a comprehensive e-commerce environment, capturing various aspects of customer behavior and purchase history within a digital marketplace. This dataset has been designed for data analysis and predictive modeling in the field of e-commerce.**\n"
      ]
    },
    {
      "cell_type": "markdown",
      "metadata": {
        "id": "24mdCMCKNRj9"
      },
      "source": [
        "# **2. Data Description**\n",
        ">**The dataset contains the following columns:**\n",
        "\n",
        "**1. Customer ID: A unique identifier for each customer.<br>**\n",
        "**2. Customer Name: The name of the customer.<br>**\n",
        "**3. Customer Age: The age of the customer.<br>**\n",
        "**4. Gender: The gender of the customer.<br>**\n",
        "**5. Purchase Date: The date of each purchase made by the customer.<br>**\n",
        "**6. Product Category: The category or type of the purchased product.<br>**\n",
        "**7. Product Price: The price of the purchased product.<br>**\n",
        "**8. Quantity: The quantity of the product purchased.<br>**\n",
        "**9. Total Purchase Amount: The total amount spent by the customer in each transaction.<br>**\n",
        "**10. Payment Method: The method of payment used by the customer (e.g., credit card, PayPal).<br>**\n",
        "**11. Returns: Whether the customer returned any products from the order (binary: 0 for no return, 1 for return).<br>**\n",
        "**12. Churn: A binary column indicating whether the customer has churned (0 for retained, 1 for churned).<br>**"
      ]
    },
    {
      "cell_type": "markdown",
      "metadata": {
        "id": "JiLXCmapNRj9"
      },
      "source": [
        "#  **3. Dataset Link on Kaggle:**\n",
        "https://www.kaggle.com/datasets/shriyashjagtap/e-commerce-customer-for-behavior-analysis\n",
        "\n"
      ]
    },
    {
      "cell_type": "markdown",
      "metadata": {
        "id": "VWit984-NRj9"
      },
      "source": [
        "# **4.Importing Necessary Libraries**"
      ]
    },
    {
      "cell_type": "code",
      "execution_count": null,
      "metadata": {
        "id": "DfCuq98jNRj9"
      },
      "outputs": [],
      "source": [
        "import numpy as np\n",
        "import pandas as  pd\n",
        "import matplotlib.pyplot as plt\n",
        "import seaborn as sns\n"
      ]
    },
    {
      "cell_type": "markdown",
      "metadata": {
        "id": "LBflOMfCNRj-"
      },
      "source": [
        "# **5.Data Understanding & Preprocessing**"
      ]
    },
    {
      "cell_type": "markdown",
      "metadata": {
        "id": "moUTxRGYNRj-"
      },
      "source": [
        "**5.1 Data Understanding**"
      ]
    },
    {
      "cell_type": "code",
      "execution_count": null,
      "metadata": {
        "id": "4wWTkYDLNRj-"
      },
      "outputs": [],
      "source": [
        "df=pd.read_csv('ecommerce_customer_data_custom_ratios.csv')"
      ]
    },
    {
      "cell_type": "code",
      "execution_count": null,
      "metadata": {
        "id": "b22TMgE9NRj-",
        "outputId": "d561e7d7-bc6d-42f0-a7ef-36c7437226f2"
      },
      "outputs": [
        {
          "data": {
            "text/html": [
              "<div>\n",
              "<style scoped>\n",
              "    .dataframe tbody tr th:only-of-type {\n",
              "        vertical-align: middle;\n",
              "    }\n",
              "\n",
              "    .dataframe tbody tr th {\n",
              "        vertical-align: top;\n",
              "    }\n",
              "\n",
              "    .dataframe thead th {\n",
              "        text-align: right;\n",
              "    }\n",
              "</style>\n",
              "<table border=\"1\" class=\"dataframe\">\n",
              "  <thead>\n",
              "    <tr style=\"text-align: right;\">\n",
              "      <th></th>\n",
              "      <th>Customer ID</th>\n",
              "      <th>Purchase Date</th>\n",
              "      <th>Product Category</th>\n",
              "      <th>Product Price</th>\n",
              "      <th>Quantity</th>\n",
              "      <th>Total Purchase Amount</th>\n",
              "      <th>Payment Method</th>\n",
              "      <th>Customer Age</th>\n",
              "      <th>Returns</th>\n",
              "      <th>Customer Name</th>\n",
              "      <th>Age</th>\n",
              "      <th>Gender</th>\n",
              "      <th>Churn</th>\n",
              "    </tr>\n",
              "  </thead>\n",
              "  <tbody>\n",
              "    <tr>\n",
              "      <th>0</th>\n",
              "      <td>46251</td>\n",
              "      <td>2020-09-08 09:38:32</td>\n",
              "      <td>Electronics</td>\n",
              "      <td>12</td>\n",
              "      <td>3</td>\n",
              "      <td>740</td>\n",
              "      <td>Credit Card</td>\n",
              "      <td>37</td>\n",
              "      <td>0.0</td>\n",
              "      <td>Christine Hernandez</td>\n",
              "      <td>37</td>\n",
              "      <td>Male</td>\n",
              "      <td>0</td>\n",
              "    </tr>\n",
              "    <tr>\n",
              "      <th>1</th>\n",
              "      <td>46251</td>\n",
              "      <td>2022-03-05 12:56:35</td>\n",
              "      <td>Home</td>\n",
              "      <td>468</td>\n",
              "      <td>4</td>\n",
              "      <td>2739</td>\n",
              "      <td>PayPal</td>\n",
              "      <td>37</td>\n",
              "      <td>0.0</td>\n",
              "      <td>Christine Hernandez</td>\n",
              "      <td>37</td>\n",
              "      <td>Male</td>\n",
              "      <td>0</td>\n",
              "    </tr>\n",
              "    <tr>\n",
              "      <th>2</th>\n",
              "      <td>46251</td>\n",
              "      <td>2022-05-23 18:18:01</td>\n",
              "      <td>Home</td>\n",
              "      <td>288</td>\n",
              "      <td>2</td>\n",
              "      <td>3196</td>\n",
              "      <td>PayPal</td>\n",
              "      <td>37</td>\n",
              "      <td>0.0</td>\n",
              "      <td>Christine Hernandez</td>\n",
              "      <td>37</td>\n",
              "      <td>Male</td>\n",
              "      <td>0</td>\n",
              "    </tr>\n",
              "    <tr>\n",
              "      <th>3</th>\n",
              "      <td>46251</td>\n",
              "      <td>2020-11-12 13:13:29</td>\n",
              "      <td>Clothing</td>\n",
              "      <td>196</td>\n",
              "      <td>1</td>\n",
              "      <td>3509</td>\n",
              "      <td>PayPal</td>\n",
              "      <td>37</td>\n",
              "      <td>0.0</td>\n",
              "      <td>Christine Hernandez</td>\n",
              "      <td>37</td>\n",
              "      <td>Male</td>\n",
              "      <td>0</td>\n",
              "    </tr>\n",
              "    <tr>\n",
              "      <th>4</th>\n",
              "      <td>13593</td>\n",
              "      <td>2020-11-27 17:55:11</td>\n",
              "      <td>Home</td>\n",
              "      <td>449</td>\n",
              "      <td>1</td>\n",
              "      <td>3452</td>\n",
              "      <td>Credit Card</td>\n",
              "      <td>49</td>\n",
              "      <td>0.0</td>\n",
              "      <td>James Grant</td>\n",
              "      <td>49</td>\n",
              "      <td>Female</td>\n",
              "      <td>1</td>\n",
              "    </tr>\n",
              "  </tbody>\n",
              "</table>\n",
              "</div>"
            ],
            "text/plain": [
              "   Customer ID        Purchase Date Product Category  Product Price  Quantity  \\\n",
              "0        46251  2020-09-08 09:38:32      Electronics             12         3   \n",
              "1        46251  2022-03-05 12:56:35             Home            468         4   \n",
              "2        46251  2022-05-23 18:18:01             Home            288         2   \n",
              "3        46251  2020-11-12 13:13:29         Clothing            196         1   \n",
              "4        13593  2020-11-27 17:55:11             Home            449         1   \n",
              "\n",
              "   Total Purchase Amount Payment Method  Customer Age  Returns  \\\n",
              "0                    740    Credit Card            37      0.0   \n",
              "1                   2739         PayPal            37      0.0   \n",
              "2                   3196         PayPal            37      0.0   \n",
              "3                   3509         PayPal            37      0.0   \n",
              "4                   3452    Credit Card            49      0.0   \n",
              "\n",
              "         Customer Name  Age  Gender  Churn  \n",
              "0  Christine Hernandez   37    Male      0  \n",
              "1  Christine Hernandez   37    Male      0  \n",
              "2  Christine Hernandez   37    Male      0  \n",
              "3  Christine Hernandez   37    Male      0  \n",
              "4          James Grant   49  Female      1  "
            ]
          },
          "execution_count": 71,
          "metadata": {},
          "output_type": "execute_result"
        }
      ],
      "source": [
        "df.head()"
      ]
    },
    {
      "cell_type": "code",
      "execution_count": null,
      "metadata": {
        "id": "M8hqapPANRj_",
        "outputId": "a1f3170f-326d-441d-aa12-32b7c2ca2117"
      },
      "outputs": [
        {
          "data": {
            "text/html": [
              "<div>\n",
              "<style scoped>\n",
              "    .dataframe tbody tr th:only-of-type {\n",
              "        vertical-align: middle;\n",
              "    }\n",
              "\n",
              "    .dataframe tbody tr th {\n",
              "        vertical-align: top;\n",
              "    }\n",
              "\n",
              "    .dataframe thead th {\n",
              "        text-align: right;\n",
              "    }\n",
              "</style>\n",
              "<table border=\"1\" class=\"dataframe\">\n",
              "  <thead>\n",
              "    <tr style=\"text-align: right;\">\n",
              "      <th></th>\n",
              "      <th>Customer ID</th>\n",
              "      <th>Product Price</th>\n",
              "      <th>Quantity</th>\n",
              "      <th>Total Purchase Amount</th>\n",
              "      <th>Customer Age</th>\n",
              "      <th>Returns</th>\n",
              "      <th>Age</th>\n",
              "      <th>Churn</th>\n",
              "    </tr>\n",
              "  </thead>\n",
              "  <tbody>\n",
              "    <tr>\n",
              "      <th>count</th>\n",
              "      <td>250000.00000</td>\n",
              "      <td>250000.000000</td>\n",
              "      <td>250000.000000</td>\n",
              "      <td>250000.000000</td>\n",
              "      <td>250000.000000</td>\n",
              "      <td>202404.000000</td>\n",
              "      <td>250000.000000</td>\n",
              "      <td>250000.000000</td>\n",
              "    </tr>\n",
              "    <tr>\n",
              "      <th>mean</th>\n",
              "      <td>25004.03624</td>\n",
              "      <td>254.659512</td>\n",
              "      <td>2.998896</td>\n",
              "      <td>2725.370732</td>\n",
              "      <td>43.940528</td>\n",
              "      <td>0.497861</td>\n",
              "      <td>43.940528</td>\n",
              "      <td>0.199496</td>\n",
              "    </tr>\n",
              "    <tr>\n",
              "      <th>std</th>\n",
              "      <td>14428.27959</td>\n",
              "      <td>141.568577</td>\n",
              "      <td>1.414694</td>\n",
              "      <td>1442.933565</td>\n",
              "      <td>15.350246</td>\n",
              "      <td>0.499997</td>\n",
              "      <td>15.350246</td>\n",
              "      <td>0.399622</td>\n",
              "    </tr>\n",
              "    <tr>\n",
              "      <th>min</th>\n",
              "      <td>1.00000</td>\n",
              "      <td>10.000000</td>\n",
              "      <td>1.000000</td>\n",
              "      <td>100.000000</td>\n",
              "      <td>18.000000</td>\n",
              "      <td>0.000000</td>\n",
              "      <td>18.000000</td>\n",
              "      <td>0.000000</td>\n",
              "    </tr>\n",
              "    <tr>\n",
              "      <th>25%</th>\n",
              "      <td>12497.75000</td>\n",
              "      <td>132.000000</td>\n",
              "      <td>2.000000</td>\n",
              "      <td>1477.000000</td>\n",
              "      <td>31.000000</td>\n",
              "      <td>0.000000</td>\n",
              "      <td>31.000000</td>\n",
              "      <td>0.000000</td>\n",
              "    </tr>\n",
              "    <tr>\n",
              "      <th>50%</th>\n",
              "      <td>25018.00000</td>\n",
              "      <td>255.000000</td>\n",
              "      <td>3.000000</td>\n",
              "      <td>2724.000000</td>\n",
              "      <td>44.000000</td>\n",
              "      <td>0.000000</td>\n",
              "      <td>44.000000</td>\n",
              "      <td>0.000000</td>\n",
              "    </tr>\n",
              "    <tr>\n",
              "      <th>75%</th>\n",
              "      <td>37506.00000</td>\n",
              "      <td>377.000000</td>\n",
              "      <td>4.000000</td>\n",
              "      <td>3974.000000</td>\n",
              "      <td>57.000000</td>\n",
              "      <td>1.000000</td>\n",
              "      <td>57.000000</td>\n",
              "      <td>0.000000</td>\n",
              "    </tr>\n",
              "    <tr>\n",
              "      <th>max</th>\n",
              "      <td>50000.00000</td>\n",
              "      <td>500.000000</td>\n",
              "      <td>5.000000</td>\n",
              "      <td>5350.000000</td>\n",
              "      <td>70.000000</td>\n",
              "      <td>1.000000</td>\n",
              "      <td>70.000000</td>\n",
              "      <td>1.000000</td>\n",
              "    </tr>\n",
              "  </tbody>\n",
              "</table>\n",
              "</div>"
            ],
            "text/plain": [
              "        Customer ID  Product Price       Quantity  Total Purchase Amount  \\\n",
              "count  250000.00000  250000.000000  250000.000000          250000.000000   \n",
              "mean    25004.03624     254.659512       2.998896            2725.370732   \n",
              "std     14428.27959     141.568577       1.414694            1442.933565   \n",
              "min         1.00000      10.000000       1.000000             100.000000   \n",
              "25%     12497.75000     132.000000       2.000000            1477.000000   \n",
              "50%     25018.00000     255.000000       3.000000            2724.000000   \n",
              "75%     37506.00000     377.000000       4.000000            3974.000000   \n",
              "max     50000.00000     500.000000       5.000000            5350.000000   \n",
              "\n",
              "        Customer Age        Returns            Age          Churn  \n",
              "count  250000.000000  202404.000000  250000.000000  250000.000000  \n",
              "mean       43.940528       0.497861      43.940528       0.199496  \n",
              "std        15.350246       0.499997      15.350246       0.399622  \n",
              "min        18.000000       0.000000      18.000000       0.000000  \n",
              "25%        31.000000       0.000000      31.000000       0.000000  \n",
              "50%        44.000000       0.000000      44.000000       0.000000  \n",
              "75%        57.000000       1.000000      57.000000       0.000000  \n",
              "max        70.000000       1.000000      70.000000       1.000000  "
            ]
          },
          "execution_count": 72,
          "metadata": {},
          "output_type": "execute_result"
        }
      ],
      "source": [
        "df.describe()"
      ]
    },
    {
      "cell_type": "code",
      "execution_count": null,
      "metadata": {
        "id": "NxdxWZaANRj_",
        "outputId": "0a798336-4dda-4893-e88c-8657f3a338f2"
      },
      "outputs": [
        {
          "data": {
            "text/plain": [
              "(250000, 13)"
            ]
          },
          "execution_count": 73,
          "metadata": {},
          "output_type": "execute_result"
        }
      ],
      "source": [
        "df.shape"
      ]
    },
    {
      "cell_type": "code",
      "execution_count": null,
      "metadata": {
        "id": "rf9VuMtqNRj_",
        "outputId": "9febefae-1e92-4ecc-98d2-cc3f97cb3dfd"
      },
      "outputs": [
        {
          "name": "stdout",
          "output_type": "stream",
          "text": [
            "<class 'pandas.core.frame.DataFrame'>\n",
            "RangeIndex: 250000 entries, 0 to 249999\n",
            "Data columns (total 13 columns):\n",
            " #   Column                 Non-Null Count   Dtype  \n",
            "---  ------                 --------------   -----  \n",
            " 0   Customer ID            250000 non-null  int64  \n",
            " 1   Purchase Date          250000 non-null  object \n",
            " 2   Product Category       250000 non-null  object \n",
            " 3   Product Price          250000 non-null  int64  \n",
            " 4   Quantity               250000 non-null  int64  \n",
            " 5   Total Purchase Amount  250000 non-null  int64  \n",
            " 6   Payment Method         250000 non-null  object \n",
            " 7   Customer Age           250000 non-null  int64  \n",
            " 8   Returns                202404 non-null  float64\n",
            " 9   Customer Name          250000 non-null  object \n",
            " 10  Age                    250000 non-null  int64  \n",
            " 11  Gender                 250000 non-null  object \n",
            " 12  Churn                  250000 non-null  int64  \n",
            "dtypes: float64(1), int64(7), object(5)\n",
            "memory usage: 24.8+ MB\n"
          ]
        }
      ],
      "source": [
        "df.info()"
      ]
    },
    {
      "cell_type": "markdown",
      "metadata": {
        "id": "nwGXHEzcNRj_"
      },
      "source": [
        "**check numerical and categorical columns:**"
      ]
    },
    {
      "cell_type": "code",
      "execution_count": null,
      "metadata": {
        "id": "WLTvv2_ENRj_",
        "outputId": "87e95de3-7b3c-4dcd-a83c-6c39dfdba7ee"
      },
      "outputs": [
        {
          "name": "stdout",
          "output_type": "stream",
          "text": [
            "There are 5 Categorical columns: ['Purchase Date', 'Product Category', 'Payment Method', 'Customer Name', 'Gender']\n",
            "There are 8 Numerical columns: ['Customer ID', 'Product Price', 'Quantity', 'Total Purchase Amount', 'Customer Age', 'Returns', 'Age', 'Churn']\n",
            "Total number of columns :13\n"
          ]
        }
      ],
      "source": [
        "categorical_columns=list(df.select_dtypes(include='object').columns)\n",
        "numerical_columns=list(df.select_dtypes(include=['float64','int64']).columns)\n",
        "print(f\"There are {len(categorical_columns)} Categorical columns: {categorical_columns}\")\n",
        "print(f\"There are {len(numerical_columns)} Numerical columns: {numerical_columns}\")\n",
        "print(f\"Total number of columns :{len(numerical_columns)+len(categorical_columns)}\")\n"
      ]
    },
    {
      "cell_type": "markdown",
      "metadata": {
        "id": "vy6DyzLGNRj_"
      },
      "source": [
        "**5.2 Data Preprocessing**"
      ]
    },
    {
      "cell_type": "markdown",
      "metadata": {
        "id": "jZXEJ9EANRj_"
      },
      "source": [
        "**5.2.1 Convert Date to Datetime and extract day,month,year**"
      ]
    },
    {
      "cell_type": "code",
      "execution_count": null,
      "metadata": {
        "id": "MEm3hA8wNRj_",
        "outputId": "ce078641-924d-4dcc-de1a-1ec3323f4650"
      },
      "outputs": [
        {
          "data": {
            "text/plain": [
              "0        2020-09-08 09:38:32\n",
              "1        2022-03-05 12:56:35\n",
              "2        2022-05-23 18:18:01\n",
              "3        2020-11-12 13:13:29\n",
              "4        2020-11-27 17:55:11\n",
              "                 ...        \n",
              "249995   2023-08-10 13:39:06\n",
              "249996   2021-11-23 01:30:42\n",
              "249997   2020-07-02 14:04:48\n",
              "249998   2020-12-30 02:02:40\n",
              "249999   2021-03-13 16:28:35\n",
              "Name: Purchase Date, Length: 250000, dtype: datetime64[ns]"
            ]
          },
          "execution_count": 76,
          "metadata": {},
          "output_type": "execute_result"
        }
      ],
      "source": [
        "df['Purchase Date']=pd.to_datetime(df['Purchase Date'])\n",
        "df['Purchase Date']"
      ]
    },
    {
      "cell_type": "code",
      "execution_count": null,
      "metadata": {
        "id": "AHKWKDlQNRkA"
      },
      "outputs": [],
      "source": [
        "df['year']=df['Purchase Date'].dt.year\n",
        "df['month']=df['Purchase Date'].dt.month\n",
        "df['day']=df['Purchase Date'].dt.day_name()\n"
      ]
    },
    {
      "cell_type": "code",
      "execution_count": null,
      "metadata": {
        "id": "skcPku-NNRkA",
        "outputId": "f6516be9-3eee-4170-fc53-f845738890d5"
      },
      "outputs": [
        {
          "data": {
            "text/html": [
              "<div>\n",
              "<style scoped>\n",
              "    .dataframe tbody tr th:only-of-type {\n",
              "        vertical-align: middle;\n",
              "    }\n",
              "\n",
              "    .dataframe tbody tr th {\n",
              "        vertical-align: top;\n",
              "    }\n",
              "\n",
              "    .dataframe thead th {\n",
              "        text-align: right;\n",
              "    }\n",
              "</style>\n",
              "<table border=\"1\" class=\"dataframe\">\n",
              "  <thead>\n",
              "    <tr style=\"text-align: right;\">\n",
              "      <th></th>\n",
              "      <th>Customer ID</th>\n",
              "      <th>Purchase Date</th>\n",
              "      <th>Product Category</th>\n",
              "      <th>Product Price</th>\n",
              "      <th>Quantity</th>\n",
              "      <th>Total Purchase Amount</th>\n",
              "      <th>Payment Method</th>\n",
              "      <th>Customer Age</th>\n",
              "      <th>Returns</th>\n",
              "      <th>Customer Name</th>\n",
              "      <th>Age</th>\n",
              "      <th>Gender</th>\n",
              "      <th>Churn</th>\n",
              "      <th>year</th>\n",
              "      <th>month</th>\n",
              "      <th>day</th>\n",
              "    </tr>\n",
              "  </thead>\n",
              "  <tbody>\n",
              "    <tr>\n",
              "      <th>0</th>\n",
              "      <td>46251</td>\n",
              "      <td>2020-09-08 09:38:32</td>\n",
              "      <td>Electronics</td>\n",
              "      <td>12</td>\n",
              "      <td>3</td>\n",
              "      <td>740</td>\n",
              "      <td>Credit Card</td>\n",
              "      <td>37</td>\n",
              "      <td>0.0</td>\n",
              "      <td>Christine Hernandez</td>\n",
              "      <td>37</td>\n",
              "      <td>Male</td>\n",
              "      <td>0</td>\n",
              "      <td>2020</td>\n",
              "      <td>9</td>\n",
              "      <td>Tuesday</td>\n",
              "    </tr>\n",
              "    <tr>\n",
              "      <th>1</th>\n",
              "      <td>46251</td>\n",
              "      <td>2022-03-05 12:56:35</td>\n",
              "      <td>Home</td>\n",
              "      <td>468</td>\n",
              "      <td>4</td>\n",
              "      <td>2739</td>\n",
              "      <td>PayPal</td>\n",
              "      <td>37</td>\n",
              "      <td>0.0</td>\n",
              "      <td>Christine Hernandez</td>\n",
              "      <td>37</td>\n",
              "      <td>Male</td>\n",
              "      <td>0</td>\n",
              "      <td>2022</td>\n",
              "      <td>3</td>\n",
              "      <td>Saturday</td>\n",
              "    </tr>\n",
              "    <tr>\n",
              "      <th>2</th>\n",
              "      <td>46251</td>\n",
              "      <td>2022-05-23 18:18:01</td>\n",
              "      <td>Home</td>\n",
              "      <td>288</td>\n",
              "      <td>2</td>\n",
              "      <td>3196</td>\n",
              "      <td>PayPal</td>\n",
              "      <td>37</td>\n",
              "      <td>0.0</td>\n",
              "      <td>Christine Hernandez</td>\n",
              "      <td>37</td>\n",
              "      <td>Male</td>\n",
              "      <td>0</td>\n",
              "      <td>2022</td>\n",
              "      <td>5</td>\n",
              "      <td>Monday</td>\n",
              "    </tr>\n",
              "    <tr>\n",
              "      <th>3</th>\n",
              "      <td>46251</td>\n",
              "      <td>2020-11-12 13:13:29</td>\n",
              "      <td>Clothing</td>\n",
              "      <td>196</td>\n",
              "      <td>1</td>\n",
              "      <td>3509</td>\n",
              "      <td>PayPal</td>\n",
              "      <td>37</td>\n",
              "      <td>0.0</td>\n",
              "      <td>Christine Hernandez</td>\n",
              "      <td>37</td>\n",
              "      <td>Male</td>\n",
              "      <td>0</td>\n",
              "      <td>2020</td>\n",
              "      <td>11</td>\n",
              "      <td>Thursday</td>\n",
              "    </tr>\n",
              "    <tr>\n",
              "      <th>4</th>\n",
              "      <td>13593</td>\n",
              "      <td>2020-11-27 17:55:11</td>\n",
              "      <td>Home</td>\n",
              "      <td>449</td>\n",
              "      <td>1</td>\n",
              "      <td>3452</td>\n",
              "      <td>Credit Card</td>\n",
              "      <td>49</td>\n",
              "      <td>0.0</td>\n",
              "      <td>James Grant</td>\n",
              "      <td>49</td>\n",
              "      <td>Female</td>\n",
              "      <td>1</td>\n",
              "      <td>2020</td>\n",
              "      <td>11</td>\n",
              "      <td>Friday</td>\n",
              "    </tr>\n",
              "  </tbody>\n",
              "</table>\n",
              "</div>"
            ],
            "text/plain": [
              "   Customer ID       Purchase Date Product Category  Product Price  Quantity  \\\n",
              "0        46251 2020-09-08 09:38:32      Electronics             12         3   \n",
              "1        46251 2022-03-05 12:56:35             Home            468         4   \n",
              "2        46251 2022-05-23 18:18:01             Home            288         2   \n",
              "3        46251 2020-11-12 13:13:29         Clothing            196         1   \n",
              "4        13593 2020-11-27 17:55:11             Home            449         1   \n",
              "\n",
              "   Total Purchase Amount Payment Method  Customer Age  Returns  \\\n",
              "0                    740    Credit Card            37      0.0   \n",
              "1                   2739         PayPal            37      0.0   \n",
              "2                   3196         PayPal            37      0.0   \n",
              "3                   3509         PayPal            37      0.0   \n",
              "4                   3452    Credit Card            49      0.0   \n",
              "\n",
              "         Customer Name  Age  Gender  Churn  year  month       day  \n",
              "0  Christine Hernandez   37    Male      0  2020      9   Tuesday  \n",
              "1  Christine Hernandez   37    Male      0  2022      3  Saturday  \n",
              "2  Christine Hernandez   37    Male      0  2022      5    Monday  \n",
              "3  Christine Hernandez   37    Male      0  2020     11  Thursday  \n",
              "4          James Grant   49  Female      1  2020     11    Friday  "
            ]
          },
          "execution_count": 78,
          "metadata": {},
          "output_type": "execute_result"
        }
      ],
      "source": [
        "df.head()"
      ]
    },
    {
      "cell_type": "markdown",
      "metadata": {
        "id": "2mQCcnn4NRkA"
      },
      "source": [
        "**5.2.2 Removing `Age` column as it's excatly the same column as `Customer Age`**"
      ]
    },
    {
      "cell_type": "code",
      "execution_count": null,
      "metadata": {
        "id": "xv_5zRgZNRkA"
      },
      "outputs": [],
      "source": [
        "df.drop(columns='Age',inplace=True)"
      ]
    },
    {
      "cell_type": "code",
      "execution_count": null,
      "metadata": {
        "id": "Bc15FV3tNRkA",
        "outputId": "38d38bcb-cae6-42f3-884e-b1cc9db86563"
      },
      "outputs": [
        {
          "name": "stdout",
          "output_type": "stream",
          "text": [
            "<class 'pandas.core.frame.DataFrame'>\n",
            "RangeIndex: 250000 entries, 0 to 249999\n",
            "Data columns (total 15 columns):\n",
            " #   Column                 Non-Null Count   Dtype         \n",
            "---  ------                 --------------   -----         \n",
            " 0   Customer ID            250000 non-null  int64         \n",
            " 1   Purchase Date          250000 non-null  datetime64[ns]\n",
            " 2   Product Category       250000 non-null  object        \n",
            " 3   Product Price          250000 non-null  int64         \n",
            " 4   Quantity               250000 non-null  int64         \n",
            " 5   Total Purchase Amount  250000 non-null  int64         \n",
            " 6   Payment Method         250000 non-null  object        \n",
            " 7   Customer Age           250000 non-null  int64         \n",
            " 8   Returns                202404 non-null  float64       \n",
            " 9   Customer Name          250000 non-null  object        \n",
            " 10  Gender                 250000 non-null  object        \n",
            " 11  Churn                  250000 non-null  int64         \n",
            " 12  year                   250000 non-null  int32         \n",
            " 13  month                  250000 non-null  int32         \n",
            " 14  day                    250000 non-null  object        \n",
            "dtypes: datetime64[ns](1), float64(1), int32(2), int64(6), object(5)\n",
            "memory usage: 26.7+ MB\n"
          ]
        }
      ],
      "source": [
        "df.info()"
      ]
    },
    {
      "cell_type": "markdown",
      "metadata": {
        "id": "ucfPJChLNRkA"
      },
      "source": [
        "**5.2.3 Check for null values:**"
      ]
    },
    {
      "cell_type": "code",
      "execution_count": null,
      "metadata": {
        "id": "baKxJHFWNRkA",
        "outputId": "e255b9de-d5a2-4a6d-b51f-0d4d32fd511f"
      },
      "outputs": [
        {
          "data": {
            "text/plain": [
              "Customer ID                  0\n",
              "Purchase Date                0\n",
              "Product Category             0\n",
              "Product Price                0\n",
              "Quantity                     0\n",
              "Total Purchase Amount        0\n",
              "Payment Method               0\n",
              "Customer Age                 0\n",
              "Returns                  47596\n",
              "Customer Name                0\n",
              "Gender                       0\n",
              "Churn                        0\n",
              "year                         0\n",
              "month                        0\n",
              "day                          0\n",
              "dtype: int64"
            ]
          },
          "execution_count": 81,
          "metadata": {},
          "output_type": "execute_result"
        }
      ],
      "source": [
        "df.isna().sum()"
      ]
    },
    {
      "cell_type": "markdown",
      "metadata": {
        "id": "v27hYTGDNRkA"
      },
      "source": [
        "**I will remove the rows not only the null values from the `Returns` column,which means I will remove `47596` row.**"
      ]
    },
    {
      "cell_type": "code",
      "execution_count": null,
      "metadata": {
        "id": "bFMnmKdvNRkA"
      },
      "outputs": [],
      "source": [
        "\n",
        "df=df[df['Returns'].notna()]"
      ]
    },
    {
      "cell_type": "markdown",
      "metadata": {
        "id": "CyFUBh__NRkA"
      },
      "source": [
        "**To confirm that the null values has been removed as rows from dataset not only from the column where it existed**"
      ]
    },
    {
      "cell_type": "code",
      "execution_count": null,
      "metadata": {
        "id": "auCLLOWDNRkA",
        "outputId": "788420f1-bce9-4f6d-98dd-463aaf239c69"
      },
      "outputs": [
        {
          "data": {
            "text/plain": [
              "(202404, 15)"
            ]
          },
          "execution_count": 83,
          "metadata": {},
          "output_type": "execute_result"
        }
      ],
      "source": [
        "df.shape"
      ]
    },
    {
      "cell_type": "code",
      "execution_count": null,
      "metadata": {
        "id": "3mLOPsRVNRkB",
        "outputId": "ad03ddef-8f6f-4d88-a3b7-1a0fbfc937a3"
      },
      "outputs": [
        {
          "data": {
            "text/plain": [
              "Customer ID              0\n",
              "Purchase Date            0\n",
              "Product Category         0\n",
              "Product Price            0\n",
              "Quantity                 0\n",
              "Total Purchase Amount    0\n",
              "Payment Method           0\n",
              "Customer Age             0\n",
              "Returns                  0\n",
              "Customer Name            0\n",
              "Gender                   0\n",
              "Churn                    0\n",
              "year                     0\n",
              "month                    0\n",
              "day                      0\n",
              "dtype: int64"
            ]
          },
          "execution_count": 84,
          "metadata": {},
          "output_type": "execute_result"
        }
      ],
      "source": [
        "df.isna().sum()"
      ]
    },
    {
      "cell_type": "markdown",
      "metadata": {
        "id": "l52hsA3bNRkB"
      },
      "source": [
        "**5.2.4 Check for duplicate values:**"
      ]
    },
    {
      "cell_type": "code",
      "execution_count": null,
      "metadata": {
        "id": "9DKOycieNRkB",
        "outputId": "151b02c6-2c72-4f10-9c26-d46a0abf94ac"
      },
      "outputs": [
        {
          "data": {
            "text/plain": [
              "0"
            ]
          },
          "execution_count": 85,
          "metadata": {},
          "output_type": "execute_result"
        }
      ],
      "source": [
        "df.duplicated().sum()"
      ]
    },
    {
      "cell_type": "markdown",
      "metadata": {
        "id": "UOTocL-GNRkB"
      },
      "source": [
        "**There isn't any duplicated values in all columns as there are unique columns like: `Customer ID`,`Customer Name`.**\n",
        ">**SO I will try to drop `Customer ID` Column from dataset and see what is the number of duplicated values after that.**"
      ]
    },
    {
      "cell_type": "markdown",
      "metadata": {
        "id": "nrYdYXRnNRkB"
      },
      "source": [
        "# **Trying to drop `Customer ID` Column :**"
      ]
    },
    {
      "cell_type": "code",
      "execution_count": null,
      "metadata": {
        "id": "0OYCQyqsNRkB",
        "outputId": "1124977e-0d8c-4397-fd28-1a678c70be9f"
      },
      "outputs": [
        {
          "data": {
            "text/html": [
              "<div>\n",
              "<style scoped>\n",
              "    .dataframe tbody tr th:only-of-type {\n",
              "        vertical-align: middle;\n",
              "    }\n",
              "\n",
              "    .dataframe tbody tr th {\n",
              "        vertical-align: top;\n",
              "    }\n",
              "\n",
              "    .dataframe thead th {\n",
              "        text-align: right;\n",
              "    }\n",
              "</style>\n",
              "<table border=\"1\" class=\"dataframe\">\n",
              "  <thead>\n",
              "    <tr style=\"text-align: right;\">\n",
              "      <th></th>\n",
              "      <th>Customer ID</th>\n",
              "      <th>Purchase Date</th>\n",
              "      <th>Product Category</th>\n",
              "      <th>Product Price</th>\n",
              "      <th>Quantity</th>\n",
              "      <th>Total Purchase Amount</th>\n",
              "      <th>Payment Method</th>\n",
              "      <th>Customer Age</th>\n",
              "      <th>Returns</th>\n",
              "      <th>Customer Name</th>\n",
              "      <th>Gender</th>\n",
              "      <th>Churn</th>\n",
              "      <th>year</th>\n",
              "      <th>month</th>\n",
              "      <th>day</th>\n",
              "    </tr>\n",
              "  </thead>\n",
              "  <tbody>\n",
              "    <tr>\n",
              "      <th>0</th>\n",
              "      <td>46251</td>\n",
              "      <td>2020-09-08 09:38:32</td>\n",
              "      <td>Electronics</td>\n",
              "      <td>12</td>\n",
              "      <td>3</td>\n",
              "      <td>740</td>\n",
              "      <td>Credit Card</td>\n",
              "      <td>37</td>\n",
              "      <td>0.0</td>\n",
              "      <td>Christine Hernandez</td>\n",
              "      <td>Male</td>\n",
              "      <td>0</td>\n",
              "      <td>2020</td>\n",
              "      <td>9</td>\n",
              "      <td>Tuesday</td>\n",
              "    </tr>\n",
              "    <tr>\n",
              "      <th>1</th>\n",
              "      <td>46251</td>\n",
              "      <td>2022-03-05 12:56:35</td>\n",
              "      <td>Home</td>\n",
              "      <td>468</td>\n",
              "      <td>4</td>\n",
              "      <td>2739</td>\n",
              "      <td>PayPal</td>\n",
              "      <td>37</td>\n",
              "      <td>0.0</td>\n",
              "      <td>Christine Hernandez</td>\n",
              "      <td>Male</td>\n",
              "      <td>0</td>\n",
              "      <td>2022</td>\n",
              "      <td>3</td>\n",
              "      <td>Saturday</td>\n",
              "    </tr>\n",
              "    <tr>\n",
              "      <th>2</th>\n",
              "      <td>46251</td>\n",
              "      <td>2022-05-23 18:18:01</td>\n",
              "      <td>Home</td>\n",
              "      <td>288</td>\n",
              "      <td>2</td>\n",
              "      <td>3196</td>\n",
              "      <td>PayPal</td>\n",
              "      <td>37</td>\n",
              "      <td>0.0</td>\n",
              "      <td>Christine Hernandez</td>\n",
              "      <td>Male</td>\n",
              "      <td>0</td>\n",
              "      <td>2022</td>\n",
              "      <td>5</td>\n",
              "      <td>Monday</td>\n",
              "    </tr>\n",
              "    <tr>\n",
              "      <th>3</th>\n",
              "      <td>46251</td>\n",
              "      <td>2020-11-12 13:13:29</td>\n",
              "      <td>Clothing</td>\n",
              "      <td>196</td>\n",
              "      <td>1</td>\n",
              "      <td>3509</td>\n",
              "      <td>PayPal</td>\n",
              "      <td>37</td>\n",
              "      <td>0.0</td>\n",
              "      <td>Christine Hernandez</td>\n",
              "      <td>Male</td>\n",
              "      <td>0</td>\n",
              "      <td>2020</td>\n",
              "      <td>11</td>\n",
              "      <td>Thursday</td>\n",
              "    </tr>\n",
              "    <tr>\n",
              "      <th>4</th>\n",
              "      <td>13593</td>\n",
              "      <td>2020-11-27 17:55:11</td>\n",
              "      <td>Home</td>\n",
              "      <td>449</td>\n",
              "      <td>1</td>\n",
              "      <td>3452</td>\n",
              "      <td>Credit Card</td>\n",
              "      <td>49</td>\n",
              "      <td>0.0</td>\n",
              "      <td>James Grant</td>\n",
              "      <td>Female</td>\n",
              "      <td>1</td>\n",
              "      <td>2020</td>\n",
              "      <td>11</td>\n",
              "      <td>Friday</td>\n",
              "    </tr>\n",
              "    <tr>\n",
              "      <th>...</th>\n",
              "      <td>...</td>\n",
              "      <td>...</td>\n",
              "      <td>...</td>\n",
              "      <td>...</td>\n",
              "      <td>...</td>\n",
              "      <td>...</td>\n",
              "      <td>...</td>\n",
              "      <td>...</td>\n",
              "      <td>...</td>\n",
              "      <td>...</td>\n",
              "      <td>...</td>\n",
              "      <td>...</td>\n",
              "      <td>...</td>\n",
              "      <td>...</td>\n",
              "      <td>...</td>\n",
              "    </tr>\n",
              "    <tr>\n",
              "      <th>249995</th>\n",
              "      <td>33308</td>\n",
              "      <td>2023-08-10 13:39:06</td>\n",
              "      <td>Clothing</td>\n",
              "      <td>279</td>\n",
              "      <td>2</td>\n",
              "      <td>2187</td>\n",
              "      <td>PayPal</td>\n",
              "      <td>55</td>\n",
              "      <td>1.0</td>\n",
              "      <td>Michelle Flores</td>\n",
              "      <td>Male</td>\n",
              "      <td>1</td>\n",
              "      <td>2023</td>\n",
              "      <td>8</td>\n",
              "      <td>Thursday</td>\n",
              "    </tr>\n",
              "    <tr>\n",
              "      <th>249996</th>\n",
              "      <td>48835</td>\n",
              "      <td>2021-11-23 01:30:42</td>\n",
              "      <td>Home</td>\n",
              "      <td>27</td>\n",
              "      <td>1</td>\n",
              "      <td>3615</td>\n",
              "      <td>Credit Card</td>\n",
              "      <td>42</td>\n",
              "      <td>1.0</td>\n",
              "      <td>Jeremy Rush</td>\n",
              "      <td>Female</td>\n",
              "      <td>1</td>\n",
              "      <td>2021</td>\n",
              "      <td>11</td>\n",
              "      <td>Tuesday</td>\n",
              "    </tr>\n",
              "    <tr>\n",
              "      <th>249997</th>\n",
              "      <td>21019</td>\n",
              "      <td>2020-07-02 14:04:48</td>\n",
              "      <td>Home</td>\n",
              "      <td>17</td>\n",
              "      <td>5</td>\n",
              "      <td>2466</td>\n",
              "      <td>Cash</td>\n",
              "      <td>41</td>\n",
              "      <td>0.0</td>\n",
              "      <td>Tina Craig</td>\n",
              "      <td>Male</td>\n",
              "      <td>0</td>\n",
              "      <td>2020</td>\n",
              "      <td>7</td>\n",
              "      <td>Thursday</td>\n",
              "    </tr>\n",
              "    <tr>\n",
              "      <th>249998</th>\n",
              "      <td>49234</td>\n",
              "      <td>2020-12-30 02:02:40</td>\n",
              "      <td>Books</td>\n",
              "      <td>398</td>\n",
              "      <td>2</td>\n",
              "      <td>3668</td>\n",
              "      <td>Crypto</td>\n",
              "      <td>34</td>\n",
              "      <td>0.0</td>\n",
              "      <td>Jennifer Cooper</td>\n",
              "      <td>Female</td>\n",
              "      <td>1</td>\n",
              "      <td>2020</td>\n",
              "      <td>12</td>\n",
              "      <td>Wednesday</td>\n",
              "    </tr>\n",
              "    <tr>\n",
              "      <th>249999</th>\n",
              "      <td>16971</td>\n",
              "      <td>2021-03-13 16:28:35</td>\n",
              "      <td>Electronics</td>\n",
              "      <td>425</td>\n",
              "      <td>4</td>\n",
              "      <td>2370</td>\n",
              "      <td>Cash</td>\n",
              "      <td>36</td>\n",
              "      <td>1.0</td>\n",
              "      <td>Justin Lawson</td>\n",
              "      <td>Female</td>\n",
              "      <td>1</td>\n",
              "      <td>2021</td>\n",
              "      <td>3</td>\n",
              "      <td>Saturday</td>\n",
              "    </tr>\n",
              "  </tbody>\n",
              "</table>\n",
              "<p>202404 rows × 15 columns</p>\n",
              "</div>"
            ],
            "text/plain": [
              "        Customer ID       Purchase Date Product Category  Product Price  \\\n",
              "0             46251 2020-09-08 09:38:32      Electronics             12   \n",
              "1             46251 2022-03-05 12:56:35             Home            468   \n",
              "2             46251 2022-05-23 18:18:01             Home            288   \n",
              "3             46251 2020-11-12 13:13:29         Clothing            196   \n",
              "4             13593 2020-11-27 17:55:11             Home            449   \n",
              "...             ...                 ...              ...            ...   \n",
              "249995        33308 2023-08-10 13:39:06         Clothing            279   \n",
              "249996        48835 2021-11-23 01:30:42             Home             27   \n",
              "249997        21019 2020-07-02 14:04:48             Home             17   \n",
              "249998        49234 2020-12-30 02:02:40            Books            398   \n",
              "249999        16971 2021-03-13 16:28:35      Electronics            425   \n",
              "\n",
              "        Quantity  Total Purchase Amount Payment Method  Customer Age  Returns  \\\n",
              "0              3                    740    Credit Card            37      0.0   \n",
              "1              4                   2739         PayPal            37      0.0   \n",
              "2              2                   3196         PayPal            37      0.0   \n",
              "3              1                   3509         PayPal            37      0.0   \n",
              "4              1                   3452    Credit Card            49      0.0   \n",
              "...          ...                    ...            ...           ...      ...   \n",
              "249995         2                   2187         PayPal            55      1.0   \n",
              "249996         1                   3615    Credit Card            42      1.0   \n",
              "249997         5                   2466           Cash            41      0.0   \n",
              "249998         2                   3668         Crypto            34      0.0   \n",
              "249999         4                   2370           Cash            36      1.0   \n",
              "\n",
              "              Customer Name  Gender  Churn  year  month        day  \n",
              "0       Christine Hernandez    Male      0  2020      9    Tuesday  \n",
              "1       Christine Hernandez    Male      0  2022      3   Saturday  \n",
              "2       Christine Hernandez    Male      0  2022      5     Monday  \n",
              "3       Christine Hernandez    Male      0  2020     11   Thursday  \n",
              "4               James Grant  Female      1  2020     11     Friday  \n",
              "...                     ...     ...    ...   ...    ...        ...  \n",
              "249995      Michelle Flores    Male      1  2023      8   Thursday  \n",
              "249996          Jeremy Rush  Female      1  2021     11    Tuesday  \n",
              "249997           Tina Craig    Male      0  2020      7   Thursday  \n",
              "249998      Jennifer Cooper  Female      1  2020     12  Wednesday  \n",
              "249999        Justin Lawson  Female      1  2021      3   Saturday  \n",
              "\n",
              "[202404 rows x 15 columns]"
            ]
          },
          "execution_count": 86,
          "metadata": {},
          "output_type": "execute_result"
        }
      ],
      "source": [
        "dff=df.copy()\n",
        "dff"
      ]
    },
    {
      "cell_type": "code",
      "execution_count": null,
      "metadata": {
        "id": "Gx1nk80YNRkB"
      },
      "outputs": [],
      "source": [
        "dff.drop(columns='Customer ID',inplace=True)\n"
      ]
    },
    {
      "cell_type": "markdown",
      "metadata": {
        "id": "9n6RsKuiNRkB"
      },
      "source": [
        "**Confirm that `Customer ID` has been removed.**"
      ]
    },
    {
      "cell_type": "code",
      "execution_count": null,
      "metadata": {
        "id": "U0ShysW9NRkB",
        "outputId": "da3de5d5-f38a-4d2e-edbd-99568a6da869"
      },
      "outputs": [
        {
          "name": "stdout",
          "output_type": "stream",
          "text": [
            "<class 'pandas.core.frame.DataFrame'>\n",
            "Index: 202404 entries, 0 to 249999\n",
            "Data columns (total 14 columns):\n",
            " #   Column                 Non-Null Count   Dtype         \n",
            "---  ------                 --------------   -----         \n",
            " 0   Purchase Date          202404 non-null  datetime64[ns]\n",
            " 1   Product Category       202404 non-null  object        \n",
            " 2   Product Price          202404 non-null  int64         \n",
            " 3   Quantity               202404 non-null  int64         \n",
            " 4   Total Purchase Amount  202404 non-null  int64         \n",
            " 5   Payment Method         202404 non-null  object        \n",
            " 6   Customer Age           202404 non-null  int64         \n",
            " 7   Returns                202404 non-null  float64       \n",
            " 8   Customer Name          202404 non-null  object        \n",
            " 9   Gender                 202404 non-null  object        \n",
            " 10  Churn                  202404 non-null  int64         \n",
            " 11  year                   202404 non-null  int32         \n",
            " 12  month                  202404 non-null  int32         \n",
            " 13  day                    202404 non-null  object        \n",
            "dtypes: datetime64[ns](1), float64(1), int32(2), int64(5), object(5)\n",
            "memory usage: 21.6+ MB\n"
          ]
        }
      ],
      "source": [
        "dff.info()"
      ]
    },
    {
      "cell_type": "code",
      "execution_count": null,
      "metadata": {
        "id": "bFOtx-dSNRkB",
        "outputId": "d75b5f2c-6b43-4917-fdbf-1430a11023fe"
      },
      "outputs": [
        {
          "data": {
            "text/plain": [
              "0"
            ]
          },
          "execution_count": 89,
          "metadata": {},
          "output_type": "execute_result"
        }
      ],
      "source": [
        "# To show whether there are duplicated values after removing ID column\n",
        "dff.duplicated().sum()"
      ]
    },
    {
      "cell_type": "markdown",
      "metadata": {
        "id": "DEmJn-JdNRkB"
      },
      "source": [
        "# **Observation:**<br>\n",
        "**As seen removing `Customer ID` column doesn't affect number of duplicates ,So I will keep it in the original dataset `df`.**"
      ]
    },
    {
      "cell_type": "markdown",
      "metadata": {
        "id": "W5CYNDwpNRkJ"
      },
      "source": [
        "# **6. Data Analysis**"
      ]
    },
    {
      "cell_type": "markdown",
      "metadata": {
        "id": "iZKCO3B9NRkJ"
      },
      "source": [
        "**6.1 Showing total revenue and average transaction value.**"
      ]
    },
    {
      "cell_type": "code",
      "execution_count": null,
      "metadata": {
        "id": "3hyuIDDTNRkJ",
        "outputId": "55519989-4bb6-45f2-e19f-b1c65e5b9afd"
      },
      "outputs": [
        {
          "name": "stdout",
          "output_type": "stream",
          "text": [
            "Total Revenue for all transactions : 551577377\n"
          ]
        }
      ],
      "source": [
        "total_revenue=df['Total Purchase Amount'].sum()\n",
        "print(f\"Total Revenue for all transactions : {total_revenue}\")"
      ]
    },
    {
      "cell_type": "code",
      "execution_count": null,
      "metadata": {
        "id": "kcrMwu01NRkJ",
        "outputId": "fa3ad914-0469-49dd-d737-2cec16334ed2"
      },
      "outputs": [
        {
          "name": "stdout",
          "output_type": "stream",
          "text": [
            "Average Revenue for all transactions : 2725.1308126321615\n"
          ]
        }
      ],
      "source": [
        "average_revenue=df['Total Purchase Amount'].mean()\n",
        "print(f\"Average Revenue for all transactions : {average_revenue}\")"
      ]
    },
    {
      "cell_type": "markdown",
      "metadata": {
        "id": "efVVP6u_NRkJ"
      },
      "source": [
        "**6.2 Show the top 5 highest spending customers.**"
      ]
    },
    {
      "cell_type": "code",
      "execution_count": null,
      "metadata": {
        "id": "SewQUmBSNRkJ",
        "outputId": "23f9cd6d-9664-4379-e6d9-6521f241bb8f"
      },
      "outputs": [
        {
          "data": {
            "text/plain": [
              "Customer ID\n",
              "12529    14\n",
              "26977    14\n",
              "20762    13\n",
              "20305    13\n",
              "14400    13\n",
              "         ..\n",
              "24423     1\n",
              "15281     1\n",
              "8967      1\n",
              "3379      1\n",
              "16971     1\n",
              "Name: count, Length: 49139, dtype: int64"
            ]
          },
          "execution_count": 92,
          "metadata": {},
          "output_type": "execute_result"
        }
      ],
      "source": [
        "df['Customer ID'].value_counts()"
      ]
    },
    {
      "cell_type": "code",
      "execution_count": null,
      "metadata": {
        "id": "_h1wrpNrNRkK",
        "outputId": "1eb89bf3-9fff-4a5e-f63c-99bcf2ce40e2"
      },
      "outputs": [
        {
          "data": {
            "text/plain": [
              "[12529, 26977, 20762, 20305, 14400]"
            ]
          },
          "execution_count": 93,
          "metadata": {},
          "output_type": "execute_result"
        }
      ],
      "source": [
        "top5_ids=list(df['Customer ID'].value_counts().head(5).index)\n",
        "top5_ids"
      ]
    },
    {
      "cell_type": "markdown",
      "metadata": {
        "id": "pJPzhL2YNRkK"
      },
      "source": [
        "**These are the Ids of top 5 customers,I will connect these Ids to their names by using the column `Customer Name`**"
      ]
    },
    {
      "cell_type": "code",
      "execution_count": null,
      "metadata": {
        "id": "S04lD4c0NRkK",
        "outputId": "9163edb6-895a-4e43-ad7a-7423499af799"
      },
      "outputs": [
        {
          "name": "stdout",
          "output_type": "stream",
          "text": [
            "Top 5 Customer Names: ['Patricia Petersen', 'Susan Burton', 'Randall Hobbs', 'Whitney Medina', 'Felicia Escobar']\n"
          ]
        }
      ],
      "source": [
        "top5_names = df[df['Customer ID'].isin(top5_ids)]['Customer Name'].unique()\n",
        "print(\"Top 5 Customer Names:\", list(top5_names))"
      ]
    },
    {
      "cell_type": "markdown",
      "metadata": {
        "id": "awjY4SMzNRkK"
      },
      "source": [
        "**6.3 Determine the busiest sales day of the week**"
      ]
    },
    {
      "cell_type": "code",
      "execution_count": null,
      "metadata": {
        "id": "L97MIb-ENRkK",
        "outputId": "0f216f1d-df5a-4e0b-b3a1-da14af53ed40"
      },
      "outputs": [
        {
          "data": {
            "text/plain": [
              "day\n",
              "Wednesday    29227\n",
              "Friday       29043\n",
              "Thursday     29021\n",
              "Monday       28979\n",
              "Tuesday      28735\n",
              "Saturday     28706\n",
              "Sunday       28693\n",
              "Name: count, dtype: int64"
            ]
          },
          "execution_count": 95,
          "metadata": {},
          "output_type": "execute_result"
        }
      ],
      "source": [
        "days_distribution=df['day'].value_counts()\n",
        "days_distribution"
      ]
    },
    {
      "cell_type": "code",
      "execution_count": null,
      "metadata": {
        "id": "6dKKI6iCNRkK",
        "outputId": "a4dfdea1-6adb-4c89-ae36-bc34b1721851"
      },
      "outputs": [
        {
          "name": "stdout",
          "output_type": "stream",
          "text": [
            "The busiest sales day of the week : ['Wednesday']\n"
          ]
        }
      ],
      "source": [
        "most_frequent_day=list(df['day'].value_counts().head(1).index)\n",
        "print(f\"The busiest sales day of the week : {most_frequent_day}\")"
      ]
    },
    {
      "cell_type": "markdown",
      "metadata": {
        "id": "Z6NhfPieNRkK"
      },
      "source": [
        "**6.4 Calculating monthly sales growth rate**"
      ]
    },
    {
      "cell_type": "code",
      "execution_count": null,
      "metadata": {
        "id": "RHyNuKiYNRkK",
        "outputId": "205ecce8-dd72-433d-f78b-16d46baa80b6"
      },
      "outputs": [
        {
          "data": {
            "text/html": [
              "<div>\n",
              "<style scoped>\n",
              "    .dataframe tbody tr th:only-of-type {\n",
              "        vertical-align: middle;\n",
              "    }\n",
              "\n",
              "    .dataframe tbody tr th {\n",
              "        vertical-align: top;\n",
              "    }\n",
              "\n",
              "    .dataframe thead th {\n",
              "        text-align: right;\n",
              "    }\n",
              "</style>\n",
              "<table border=\"1\" class=\"dataframe\">\n",
              "  <thead>\n",
              "    <tr style=\"text-align: right;\">\n",
              "      <th></th>\n",
              "      <th>month</th>\n",
              "      <th>Total Purchase Amount</th>\n",
              "    </tr>\n",
              "  </thead>\n",
              "  <tbody>\n",
              "    <tr>\n",
              "      <th>0</th>\n",
              "      <td>1</td>\n",
              "      <td>50508113</td>\n",
              "    </tr>\n",
              "    <tr>\n",
              "      <th>1</th>\n",
              "      <td>2</td>\n",
              "      <td>46353669</td>\n",
              "    </tr>\n",
              "    <tr>\n",
              "      <th>2</th>\n",
              "      <td>3</td>\n",
              "      <td>51046772</td>\n",
              "    </tr>\n",
              "    <tr>\n",
              "      <th>3</th>\n",
              "      <td>4</td>\n",
              "      <td>48370341</td>\n",
              "    </tr>\n",
              "    <tr>\n",
              "      <th>4</th>\n",
              "      <td>5</td>\n",
              "      <td>50203519</td>\n",
              "    </tr>\n",
              "    <tr>\n",
              "      <th>5</th>\n",
              "      <td>6</td>\n",
              "      <td>49446711</td>\n",
              "    </tr>\n",
              "    <tr>\n",
              "      <th>6</th>\n",
              "      <td>7</td>\n",
              "      <td>50670654</td>\n",
              "    </tr>\n",
              "    <tr>\n",
              "      <th>7</th>\n",
              "      <td>8</td>\n",
              "      <td>50508991</td>\n",
              "    </tr>\n",
              "    <tr>\n",
              "      <th>8</th>\n",
              "      <td>9</td>\n",
              "      <td>41972227</td>\n",
              "    </tr>\n",
              "    <tr>\n",
              "      <th>9</th>\n",
              "      <td>10</td>\n",
              "      <td>37783284</td>\n",
              "    </tr>\n",
              "    <tr>\n",
              "      <th>10</th>\n",
              "      <td>11</td>\n",
              "      <td>36936306</td>\n",
              "    </tr>\n",
              "    <tr>\n",
              "      <th>11</th>\n",
              "      <td>12</td>\n",
              "      <td>37776790</td>\n",
              "    </tr>\n",
              "  </tbody>\n",
              "</table>\n",
              "</div>"
            ],
            "text/plain": [
              "    month  Total Purchase Amount\n",
              "0       1               50508113\n",
              "1       2               46353669\n",
              "2       3               51046772\n",
              "3       4               48370341\n",
              "4       5               50203519\n",
              "5       6               49446711\n",
              "6       7               50670654\n",
              "7       8               50508991\n",
              "8       9               41972227\n",
              "9      10               37783284\n",
              "10     11               36936306\n",
              "11     12               37776790"
            ]
          },
          "execution_count": 97,
          "metadata": {},
          "output_type": "execute_result"
        }
      ],
      "source": [
        "sales_per_month=df.groupby('month')['Total Purchase Amount'].sum().reset_index()\n",
        "sales_per_month"
      ]
    },
    {
      "cell_type": "code",
      "execution_count": null,
      "metadata": {
        "id": "4xJr8cuANRkK",
        "outputId": "fcf1a8cd-2847-46ee-b059-17ee7fcbeed3"
      },
      "outputs": [
        {
          "data": {
            "text/html": [
              "<div>\n",
              "<style scoped>\n",
              "    .dataframe tbody tr th:only-of-type {\n",
              "        vertical-align: middle;\n",
              "    }\n",
              "\n",
              "    .dataframe tbody tr th {\n",
              "        vertical-align: top;\n",
              "    }\n",
              "\n",
              "    .dataframe thead th {\n",
              "        text-align: right;\n",
              "    }\n",
              "</style>\n",
              "<table border=\"1\" class=\"dataframe\">\n",
              "  <thead>\n",
              "    <tr style=\"text-align: right;\">\n",
              "      <th></th>\n",
              "      <th>month</th>\n",
              "      <th>Total Purchase Amount</th>\n",
              "      <th>growth_rate</th>\n",
              "    </tr>\n",
              "  </thead>\n",
              "  <tbody>\n",
              "    <tr>\n",
              "      <th>0</th>\n",
              "      <td>1</td>\n",
              "      <td>50508113</td>\n",
              "      <td>NaN</td>\n",
              "    </tr>\n",
              "    <tr>\n",
              "      <th>1</th>\n",
              "      <td>2</td>\n",
              "      <td>46353669</td>\n",
              "      <td>-8.225300</td>\n",
              "    </tr>\n",
              "    <tr>\n",
              "      <th>2</th>\n",
              "      <td>3</td>\n",
              "      <td>51046772</td>\n",
              "      <td>10.124556</td>\n",
              "    </tr>\n",
              "    <tr>\n",
              "      <th>3</th>\n",
              "      <td>4</td>\n",
              "      <td>48370341</td>\n",
              "      <td>-5.243095</td>\n",
              "    </tr>\n",
              "    <tr>\n",
              "      <th>4</th>\n",
              "      <td>5</td>\n",
              "      <td>50203519</td>\n",
              "      <td>3.789880</td>\n",
              "    </tr>\n",
              "    <tr>\n",
              "      <th>5</th>\n",
              "      <td>6</td>\n",
              "      <td>49446711</td>\n",
              "      <td>-1.507480</td>\n",
              "    </tr>\n",
              "    <tr>\n",
              "      <th>6</th>\n",
              "      <td>7</td>\n",
              "      <td>50670654</td>\n",
              "      <td>2.475277</td>\n",
              "    </tr>\n",
              "    <tr>\n",
              "      <th>7</th>\n",
              "      <td>8</td>\n",
              "      <td>50508991</td>\n",
              "      <td>-0.319047</td>\n",
              "    </tr>\n",
              "    <tr>\n",
              "      <th>8</th>\n",
              "      <td>9</td>\n",
              "      <td>41972227</td>\n",
              "      <td>-16.901474</td>\n",
              "    </tr>\n",
              "    <tr>\n",
              "      <th>9</th>\n",
              "      <td>10</td>\n",
              "      <td>37783284</td>\n",
              "      <td>-9.980273</td>\n",
              "    </tr>\n",
              "    <tr>\n",
              "      <th>10</th>\n",
              "      <td>11</td>\n",
              "      <td>36936306</td>\n",
              "      <td>-2.241674</td>\n",
              "    </tr>\n",
              "    <tr>\n",
              "      <th>11</th>\n",
              "      <td>12</td>\n",
              "      <td>37776790</td>\n",
              "      <td>2.275496</td>\n",
              "    </tr>\n",
              "  </tbody>\n",
              "</table>\n",
              "</div>"
            ],
            "text/plain": [
              "    month  Total Purchase Amount  growth_rate\n",
              "0       1               50508113          NaN\n",
              "1       2               46353669    -8.225300\n",
              "2       3               51046772    10.124556\n",
              "3       4               48370341    -5.243095\n",
              "4       5               50203519     3.789880\n",
              "5       6               49446711    -1.507480\n",
              "6       7               50670654     2.475277\n",
              "7       8               50508991    -0.319047\n",
              "8       9               41972227   -16.901474\n",
              "9      10               37783284    -9.980273\n",
              "10     11               36936306    -2.241674\n",
              "11     12               37776790     2.275496"
            ]
          },
          "execution_count": 98,
          "metadata": {},
          "output_type": "execute_result"
        }
      ],
      "source": [
        "sales_per_month['growth_rate']=sales_per_month['Total Purchase Amount'].pct_change()*100\n",
        "sales_per_month"
      ]
    },
    {
      "cell_type": "markdown",
      "metadata": {
        "id": "CyddPMmdNRkK"
      },
      "source": [
        "**6.5  Identify the top 3 most popular `Product Category`**"
      ]
    },
    {
      "cell_type": "code",
      "execution_count": null,
      "metadata": {
        "id": "Fu6xzv4JNRkK",
        "outputId": "114a6c76-5311-4e8a-9198-142f25830e77"
      },
      "outputs": [
        {
          "data": {
            "text/plain": [
              "4"
            ]
          },
          "execution_count": 99,
          "metadata": {},
          "output_type": "execute_result"
        }
      ],
      "source": [
        "df['Product Category'].nunique()"
      ]
    },
    {
      "cell_type": "code",
      "execution_count": null,
      "metadata": {
        "id": "xbG78PnRNRkL",
        "outputId": "8cc56949-c64d-4ad7-fc86-2b317178a97b"
      },
      "outputs": [
        {
          "data": {
            "text/plain": [
              "array(['Electronics', 'Home', 'Clothing', 'Books'], dtype=object)"
            ]
          },
          "execution_count": 100,
          "metadata": {},
          "output_type": "execute_result"
        }
      ],
      "source": [
        "df['Product Category'].unique()"
      ]
    },
    {
      "cell_type": "code",
      "execution_count": null,
      "metadata": {
        "id": "w2tKaogcNRkL",
        "outputId": "247d7b7f-9d50-4883-e57c-b395233a4310"
      },
      "outputs": [
        {
          "name": "stdout",
          "output_type": "stream",
          "text": [
            "The top 3 most popular product categories : ['Clothing', 'Books', 'Electronics']\n"
          ]
        }
      ],
      "source": [
        "top3_types=list(df['Product Category'].value_counts().head(3).index)\n",
        "print(f\"The top 3 most popular product categories : {top3_types}\")\n"
      ]
    },
    {
      "cell_type": "markdown",
      "metadata": {
        "id": "hPOWM6S7NRkL"
      },
      "source": [
        "**If I want to show more visualization on percentage for each `Product Category`**"
      ]
    },
    {
      "cell_type": "code",
      "execution_count": null,
      "metadata": {
        "id": "meaFhbvbNRkL",
        "outputId": "81327dbe-c441-4ae5-c528-e76d0cff9fba"
      },
      "outputs": [
        {
          "data": {
            "image/png": "[encoded data removed]",
            "text/plain": [
              "<Figure size 600x600 with 1 Axes>"
            ]
          },
          "metadata": {},
          "output_type": "display_data"
        }
      ],
      "source": [
        "product_types_number=df['Product Category'].value_counts()\n",
        "plt.figure(figsize=(6,6))\n",
        "plt.pie(product_types_number, labels=product_types_number.index, autopct='%1.1f%%', colors=['skyblue', 'orange', 'lightgreen', 'red'])\n",
        "plt.title('Product Category Distribution')\n",
        "plt.show()"
      ]
    },
    {
      "cell_type": "markdown",
      "metadata": {
        "id": "TukuXTrtNRkL"
      },
      "source": [
        "**6.6 Determine the most frequently used `Payment Type`**"
      ]
    },
    {
      "cell_type": "code",
      "execution_count": null,
      "metadata": {
        "id": "TSH5Q_qGNRkL",
        "outputId": "e4fdf485-36f5-47fd-af6b-88b2e771a499"
      },
      "outputs": [
        {
          "data": {
            "text/plain": [
              "Payment Method\n",
              "Credit Card    81394\n",
              "PayPal         60603\n",
              "Cash           40406\n",
              "Crypto         20001\n",
              "Name: count, dtype: int64"
            ]
          },
          "execution_count": 103,
          "metadata": {},
          "output_type": "execute_result"
        }
      ],
      "source": [
        "payment_methods=df['Payment Method'].value_counts()\n",
        "payment_methods"
      ]
    },
    {
      "cell_type": "code",
      "execution_count": null,
      "metadata": {
        "id": "XDbt7zykNRkL",
        "outputId": "5435abcb-e67f-406c-b7be-21b361f6dc4e"
      },
      "outputs": [
        {
          "name": "stdout",
          "output_type": "stream",
          "text": [
            "The most frequent payment method : Credit Card\n"
          ]
        }
      ],
      "source": [
        "most_frequent_payment_method=df['Payment Method'].value_counts().idxmax()\n",
        "print(f\"The most frequent payment method : {most_frequent_payment_method}\")"
      ]
    },
    {
      "cell_type": "markdown",
      "metadata": {
        "id": "J4nrTVphNRkL"
      },
      "source": [
        "**Visualization of Payment Methods Distribution**"
      ]
    },
    {
      "cell_type": "code",
      "execution_count": null,
      "metadata": {
        "id": "OMyfOUzpNRkL",
        "outputId": "f9a001cc-135f-42eb-d772-fe8c1c9e98b0"
      },
      "outputs": [
        {
          "data": {
            "image/png": "[encoded data removed]",
            "text/plain": [
              "<Figure size 600x600 with 1 Axes>"
            ]
          },
          "metadata": {},
          "output_type": "display_data"
        }
      ],
      "source": [
        "payment_methods=df['Payment Method'].value_counts()\n",
        "plt.figure(figsize=(6,6))\n",
        "plt.pie(payment_methods, labels=payment_methods.index, autopct='%1.1f%%', colors=['green', 'pink', 'yellow', 'purple'])\n",
        "plt.title('Distribution of Payment Methods')\n",
        "plt.show()"
      ]
    },
    {
      "cell_type": "code",
      "execution_count": null,
      "metadata": {
        "id": "hk2OgdnINRkL",
        "outputId": "d44ec97d-5f00-4fa8-e465-289db0ec3aa9"
      },
      "outputs": [
        {
          "data": {
            "image/png": "[encoded data removed]",
            "text/plain": [
              "<Figure size 600x600 with 1 Axes>"
            ]
          },
          "metadata": {},
          "output_type": "display_data"
        }
      ],
      "source": [
        "plt.figure(figsize=(6,6))\n",
        "payment_methods.plot(kind='bar',color='orange')\n",
        "plt.title('Distribution of Payment Methods', fontsize=15)\n",
        "plt.xlabel(\"Payment Methods\",fontsize=12)\n",
        "plt.ylabel(\"Count\",fontsize=12)\n",
        "plt.tight_layout()\n",
        "plt.show()"
      ]
    },
    {
      "cell_type": "markdown",
      "metadata": {
        "id": "vV5-N2p9NRkM"
      },
      "source": [
        "# **Observation on `Customer ID` Column**"
      ]
    },
    {
      "cell_type": "code",
      "execution_count": null,
      "metadata": {
        "id": "sgS-_i2iNRkM",
        "outputId": "3c901ad7-586f-478b-efe2-3a45b12d11ba"
      },
      "outputs": [
        {
          "data": {
            "text/plain": [
              "Customer ID               49139\n",
              "Purchase Date            202223\n",
              "Product Category              4\n",
              "Product Price               491\n",
              "Quantity                      5\n",
              "Total Purchase Amount      5244\n",
              "Payment Method                4\n",
              "Customer Age                 53\n",
              "Returns                       2\n",
              "Customer Name             39547\n",
              "Gender                        2\n",
              "Churn                         2\n",
              "year                          4\n",
              "month                        12\n",
              "day                           7\n",
              "dtype: int64"
            ]
          },
          "execution_count": 107,
          "metadata": {},
          "output_type": "execute_result"
        }
      ],
      "source": [
        "df.nunique()"
      ]
    },
    {
      "cell_type": "code",
      "execution_count": null,
      "metadata": {
        "id": "CTT2tOUyNRkM",
        "outputId": "5ce069b3-7569-4b3f-cfd1-63ea2a88b783"
      },
      "outputs": [
        {
          "data": {
            "text/plain": [
              "49139"
            ]
          },
          "execution_count": 108,
          "metadata": {},
          "output_type": "execute_result"
        }
      ],
      "source": [
        "df['Customer ID'].nunique()"
      ]
    },
    {
      "cell_type": "code",
      "execution_count": null,
      "metadata": {
        "id": "KwkWQWhUNRkM",
        "outputId": "76d7d4ff-29a3-4ed7-eea6-f1e19b086562"
      },
      "outputs": [
        {
          "data": {
            "text/plain": [
              "202404"
            ]
          },
          "execution_count": 109,
          "metadata": {},
          "output_type": "execute_result"
        }
      ],
      "source": [
        "len(df['Customer ID'])"
      ]
    },
    {
      "cell_type": "markdown",
      "metadata": {
        "id": "nvSxJy4dNRkM"
      },
      "source": [
        "# **Insights on `Customer ID` column:**\n",
        "**There are only `49673` unique Id value from `250000` this means that :<br>**\n",
        "**1.The same customer buys more than one item in the same time or in different times.<br>**\n",
        "**2.The customer has the same unique identifier whenever it buys it will be using the same ID.**"
      ]
    },
    {
      "cell_type": "markdown",
      "metadata": {
        "id": "02mejhdwNRkM"
      },
      "source": [
        "# **7. Advanced Data Visualization :**"
      ]
    },
    {
      "cell_type": "markdown",
      "metadata": {
        "id": "i1fJ-_fENRkM"
      },
      "source": [
        "**7.1 Display monthly revenue trends for each product category**"
      ]
    },
    {
      "cell_type": "code",
      "execution_count": null,
      "metadata": {
        "id": "qyAYrqiHNRkM",
        "outputId": "179a2fc5-4e0f-4415-ce6f-47d446b15342"
      },
      "outputs": [
        {
          "data": {
            "text/html": [
              "<div>\n",
              "<style scoped>\n",
              "    .dataframe tbody tr th:only-of-type {\n",
              "        vertical-align: middle;\n",
              "    }\n",
              "\n",
              "    .dataframe tbody tr th {\n",
              "        vertical-align: top;\n",
              "    }\n",
              "\n",
              "    .dataframe thead th {\n",
              "        text-align: right;\n",
              "    }\n",
              "</style>\n",
              "<table border=\"1\" class=\"dataframe\">\n",
              "  <thead>\n",
              "    <tr style=\"text-align: right;\">\n",
              "      <th></th>\n",
              "      <th>month</th>\n",
              "      <th>Product Category</th>\n",
              "      <th>Total Purchase Amount</th>\n",
              "    </tr>\n",
              "  </thead>\n",
              "  <tbody>\n",
              "    <tr>\n",
              "      <th>0</th>\n",
              "      <td>1</td>\n",
              "      <td>Books</td>\n",
              "      <td>15305798</td>\n",
              "    </tr>\n",
              "    <tr>\n",
              "      <th>1</th>\n",
              "      <td>1</td>\n",
              "      <td>Clothing</td>\n",
              "      <td>15258674</td>\n",
              "    </tr>\n",
              "    <tr>\n",
              "      <th>2</th>\n",
              "      <td>1</td>\n",
              "      <td>Electronics</td>\n",
              "      <td>10018307</td>\n",
              "    </tr>\n",
              "    <tr>\n",
              "      <th>3</th>\n",
              "      <td>1</td>\n",
              "      <td>Home</td>\n",
              "      <td>9925334</td>\n",
              "    </tr>\n",
              "    <tr>\n",
              "      <th>4</th>\n",
              "      <td>2</td>\n",
              "      <td>Books</td>\n",
              "      <td>13984601</td>\n",
              "    </tr>\n",
              "    <tr>\n",
              "      <th>5</th>\n",
              "      <td>2</td>\n",
              "      <td>Clothing</td>\n",
              "      <td>13908090</td>\n",
              "    </tr>\n",
              "    <tr>\n",
              "      <th>6</th>\n",
              "      <td>2</td>\n",
              "      <td>Electronics</td>\n",
              "      <td>9387838</td>\n",
              "    </tr>\n",
              "    <tr>\n",
              "      <th>7</th>\n",
              "      <td>2</td>\n",
              "      <td>Home</td>\n",
              "      <td>9073140</td>\n",
              "    </tr>\n",
              "    <tr>\n",
              "      <th>8</th>\n",
              "      <td>3</td>\n",
              "      <td>Books</td>\n",
              "      <td>15269684</td>\n",
              "    </tr>\n",
              "    <tr>\n",
              "      <th>9</th>\n",
              "      <td>3</td>\n",
              "      <td>Clothing</td>\n",
              "      <td>15291844</td>\n",
              "    </tr>\n",
              "    <tr>\n",
              "      <th>10</th>\n",
              "      <td>3</td>\n",
              "      <td>Electronics</td>\n",
              "      <td>10288690</td>\n",
              "    </tr>\n",
              "    <tr>\n",
              "      <th>11</th>\n",
              "      <td>3</td>\n",
              "      <td>Home</td>\n",
              "      <td>10196554</td>\n",
              "    </tr>\n",
              "    <tr>\n",
              "      <th>12</th>\n",
              "      <td>4</td>\n",
              "      <td>Books</td>\n",
              "      <td>14388702</td>\n",
              "    </tr>\n",
              "    <tr>\n",
              "      <th>13</th>\n",
              "      <td>4</td>\n",
              "      <td>Clothing</td>\n",
              "      <td>14543437</td>\n",
              "    </tr>\n",
              "    <tr>\n",
              "      <th>14</th>\n",
              "      <td>4</td>\n",
              "      <td>Electronics</td>\n",
              "      <td>9849064</td>\n",
              "    </tr>\n",
              "    <tr>\n",
              "      <th>15</th>\n",
              "      <td>4</td>\n",
              "      <td>Home</td>\n",
              "      <td>9589138</td>\n",
              "    </tr>\n",
              "    <tr>\n",
              "      <th>16</th>\n",
              "      <td>5</td>\n",
              "      <td>Books</td>\n",
              "      <td>14965713</td>\n",
              "    </tr>\n",
              "    <tr>\n",
              "      <th>17</th>\n",
              "      <td>5</td>\n",
              "      <td>Clothing</td>\n",
              "      <td>15405098</td>\n",
              "    </tr>\n",
              "    <tr>\n",
              "      <th>18</th>\n",
              "      <td>5</td>\n",
              "      <td>Electronics</td>\n",
              "      <td>10105643</td>\n",
              "    </tr>\n",
              "    <tr>\n",
              "      <th>19</th>\n",
              "      <td>5</td>\n",
              "      <td>Home</td>\n",
              "      <td>9727065</td>\n",
              "    </tr>\n",
              "    <tr>\n",
              "      <th>20</th>\n",
              "      <td>6</td>\n",
              "      <td>Books</td>\n",
              "      <td>15008204</td>\n",
              "    </tr>\n",
              "    <tr>\n",
              "      <th>21</th>\n",
              "      <td>6</td>\n",
              "      <td>Clothing</td>\n",
              "      <td>14829598</td>\n",
              "    </tr>\n",
              "    <tr>\n",
              "      <th>22</th>\n",
              "      <td>6</td>\n",
              "      <td>Electronics</td>\n",
              "      <td>9956728</td>\n",
              "    </tr>\n",
              "    <tr>\n",
              "      <th>23</th>\n",
              "      <td>6</td>\n",
              "      <td>Home</td>\n",
              "      <td>9652181</td>\n",
              "    </tr>\n",
              "    <tr>\n",
              "      <th>24</th>\n",
              "      <td>7</td>\n",
              "      <td>Books</td>\n",
              "      <td>15078457</td>\n",
              "    </tr>\n",
              "    <tr>\n",
              "      <th>25</th>\n",
              "      <td>7</td>\n",
              "      <td>Clothing</td>\n",
              "      <td>15098013</td>\n",
              "    </tr>\n",
              "    <tr>\n",
              "      <th>26</th>\n",
              "      <td>7</td>\n",
              "      <td>Electronics</td>\n",
              "      <td>9919354</td>\n",
              "    </tr>\n",
              "    <tr>\n",
              "      <th>27</th>\n",
              "      <td>7</td>\n",
              "      <td>Home</td>\n",
              "      <td>10574830</td>\n",
              "    </tr>\n",
              "    <tr>\n",
              "      <th>28</th>\n",
              "      <td>8</td>\n",
              "      <td>Books</td>\n",
              "      <td>15442309</td>\n",
              "    </tr>\n",
              "    <tr>\n",
              "      <th>29</th>\n",
              "      <td>8</td>\n",
              "      <td>Clothing</td>\n",
              "      <td>14742697</td>\n",
              "    </tr>\n",
              "    <tr>\n",
              "      <th>30</th>\n",
              "      <td>8</td>\n",
              "      <td>Electronics</td>\n",
              "      <td>10191228</td>\n",
              "    </tr>\n",
              "    <tr>\n",
              "      <th>31</th>\n",
              "      <td>8</td>\n",
              "      <td>Home</td>\n",
              "      <td>10132757</td>\n",
              "    </tr>\n",
              "    <tr>\n",
              "      <th>32</th>\n",
              "      <td>9</td>\n",
              "      <td>Books</td>\n",
              "      <td>12550589</td>\n",
              "    </tr>\n",
              "    <tr>\n",
              "      <th>33</th>\n",
              "      <td>9</td>\n",
              "      <td>Clothing</td>\n",
              "      <td>12423976</td>\n",
              "    </tr>\n",
              "    <tr>\n",
              "      <th>34</th>\n",
              "      <td>9</td>\n",
              "      <td>Electronics</td>\n",
              "      <td>8529264</td>\n",
              "    </tr>\n",
              "    <tr>\n",
              "      <th>35</th>\n",
              "      <td>9</td>\n",
              "      <td>Home</td>\n",
              "      <td>8468398</td>\n",
              "    </tr>\n",
              "    <tr>\n",
              "      <th>36</th>\n",
              "      <td>10</td>\n",
              "      <td>Books</td>\n",
              "      <td>11219978</td>\n",
              "    </tr>\n",
              "    <tr>\n",
              "      <th>37</th>\n",
              "      <td>10</td>\n",
              "      <td>Clothing</td>\n",
              "      <td>11552567</td>\n",
              "    </tr>\n",
              "    <tr>\n",
              "      <th>38</th>\n",
              "      <td>10</td>\n",
              "      <td>Electronics</td>\n",
              "      <td>7450677</td>\n",
              "    </tr>\n",
              "    <tr>\n",
              "      <th>39</th>\n",
              "      <td>10</td>\n",
              "      <td>Home</td>\n",
              "      <td>7560062</td>\n",
              "    </tr>\n",
              "    <tr>\n",
              "      <th>40</th>\n",
              "      <td>11</td>\n",
              "      <td>Books</td>\n",
              "      <td>11126820</td>\n",
              "    </tr>\n",
              "    <tr>\n",
              "      <th>41</th>\n",
              "      <td>11</td>\n",
              "      <td>Clothing</td>\n",
              "      <td>11092090</td>\n",
              "    </tr>\n",
              "    <tr>\n",
              "      <th>42</th>\n",
              "      <td>11</td>\n",
              "      <td>Electronics</td>\n",
              "      <td>7353714</td>\n",
              "    </tr>\n",
              "    <tr>\n",
              "      <th>43</th>\n",
              "      <td>11</td>\n",
              "      <td>Home</td>\n",
              "      <td>7363682</td>\n",
              "    </tr>\n",
              "    <tr>\n",
              "      <th>44</th>\n",
              "      <td>12</td>\n",
              "      <td>Books</td>\n",
              "      <td>11424581</td>\n",
              "    </tr>\n",
              "    <tr>\n",
              "      <th>45</th>\n",
              "      <td>12</td>\n",
              "      <td>Clothing</td>\n",
              "      <td>11269879</td>\n",
              "    </tr>\n",
              "    <tr>\n",
              "      <th>46</th>\n",
              "      <td>12</td>\n",
              "      <td>Electronics</td>\n",
              "      <td>7475438</td>\n",
              "    </tr>\n",
              "    <tr>\n",
              "      <th>47</th>\n",
              "      <td>12</td>\n",
              "      <td>Home</td>\n",
              "      <td>7606892</td>\n",
              "    </tr>\n",
              "  </tbody>\n",
              "</table>\n",
              "</div>"
            ],
            "text/plain": [
              "    month Product Category  Total Purchase Amount\n",
              "0       1            Books               15305798\n",
              "1       1         Clothing               15258674\n",
              "2       1      Electronics               10018307\n",
              "3       1             Home                9925334\n",
              "4       2            Books               13984601\n",
              "5       2         Clothing               13908090\n",
              "6       2      Electronics                9387838\n",
              "7       2             Home                9073140\n",
              "8       3            Books               15269684\n",
              "9       3         Clothing               15291844\n",
              "10      3      Electronics               10288690\n",
              "11      3             Home               10196554\n",
              "12      4            Books               14388702\n",
              "13      4         Clothing               14543437\n",
              "14      4      Electronics                9849064\n",
              "15      4             Home                9589138\n",
              "16      5            Books               14965713\n",
              "17      5         Clothing               15405098\n",
              "18      5      Electronics               10105643\n",
              "19      5             Home                9727065\n",
              "20      6            Books               15008204\n",
              "21      6         Clothing               14829598\n",
              "22      6      Electronics                9956728\n",
              "23      6             Home                9652181\n",
              "24      7            Books               15078457\n",
              "25      7         Clothing               15098013\n",
              "26      7      Electronics                9919354\n",
              "27      7             Home               10574830\n",
              "28      8            Books               15442309\n",
              "29      8         Clothing               14742697\n",
              "30      8      Electronics               10191228\n",
              "31      8             Home               10132757\n",
              "32      9            Books               12550589\n",
              "33      9         Clothing               12423976\n",
              "34      9      Electronics                8529264\n",
              "35      9             Home                8468398\n",
              "36     10            Books               11219978\n",
              "37     10         Clothing               11552567\n",
              "38     10      Electronics                7450677\n",
              "39     10             Home                7560062\n",
              "40     11            Books               11126820\n",
              "41     11         Clothing               11092090\n",
              "42     11      Electronics                7353714\n",
              "43     11             Home                7363682\n",
              "44     12            Books               11424581\n",
              "45     12         Clothing               11269879\n",
              "46     12      Electronics                7475438\n",
              "47     12             Home                7606892"
            ]
          },
          "execution_count": 110,
          "metadata": {},
          "output_type": "execute_result"
        }
      ],
      "source": [
        "monthly_sales_per_category=df.groupby(['month','Product Category'])['Total Purchase Amount'].sum().reset_index()\n",
        "monthly_sales_per_category"
      ]
    },
    {
      "cell_type": "code",
      "execution_count": null,
      "metadata": {
        "id": "BFeJyPkqNRkM",
        "outputId": "dd07ae93-973e-4b37-c358-bb6565d7526f"
      },
      "outputs": [
        {
          "data": {
            "text/plain": [
              "<Axes: xlabel='month', ylabel='Total Purchase Amount'>"
            ]
          },
          "execution_count": 111,
          "metadata": {},
          "output_type": "execute_result"
        },
        {
          "data": {
            "image/png": "[encoded data removed]",
            "text/plain": [
              "<Figure size 640x480 with 1 Axes>"
            ]
          },
          "metadata": {},
          "output_type": "display_data"
        }
      ],
      "source": [
        "sns.lineplot(\n",
        "    data=monthly_sales_per_category,\n",
        "    x='month',\n",
        "    y='Total Purchase Amount',\n",
        "    hue='Product Category',\n",
        "    marker='o'\n",
        "\n",
        ")\n"
      ]
    },
    {
      "cell_type": "markdown",
      "metadata": {
        "id": "87Pg9v5uNRkM"
      },
      "source": [
        "**7.2 Show the distribution of sales by payment type**"
      ]
    },
    {
      "cell_type": "code",
      "execution_count": null,
      "metadata": {
        "id": "F8fUwHxvNRkN",
        "outputId": "46dc2e39-f25c-4ffb-b552-376f6c188775"
      },
      "outputs": [
        {
          "data": {
            "text/plain": [
              "Payment Method\n",
              "Cash           109971818\n",
              "Credit Card    222023413\n",
              "Crypto          54498179\n",
              "PayPal         165083967\n",
              "Name: Total Purchase Amount, dtype: int64"
            ]
          },
          "execution_count": 112,
          "metadata": {},
          "output_type": "execute_result"
        }
      ],
      "source": [
        "sales_by_paymaent_type=df.groupby('Payment Method')['Total Purchase Amount'].sum()\n",
        "sales_by_paymaent_type"
      ]
    },
    {
      "cell_type": "code",
      "execution_count": null,
      "metadata": {
        "id": "vW4tlwFwNRkN",
        "outputId": "681ad78f-b8cd-4e9a-884d-e231fbc1b6ef"
      },
      "outputs": [
        {
          "data": {
            "image/png": "[encoded data removed]",
            "text/plain": [
              "<Figure size 600x600 with 1 Axes>"
            ]
          },
          "metadata": {},
          "output_type": "display_data"
        }
      ],
      "source": [
        "plt.figure(figsize=(6,6))\n",
        "plt.pie(sales_by_paymaent_type, labels=sales_by_paymaent_type.index, autopct='%1.1f%%', colors=['skyblue', 'orange', 'lightgreen', 'red'])\n",
        "plt.title('Distribution of Sales By Payment Type')\n",
        "plt.show()"
      ]
    },
    {
      "cell_type": "markdown",
      "metadata": {
        "id": "K_WDnSm5NRkN"
      },
      "source": [
        "**7.3 Distribution of transaction amounts**"
      ]
    },
    {
      "cell_type": "code",
      "execution_count": null,
      "metadata": {
        "id": "E5_HFllnNRkN",
        "outputId": "39ae4619-a4bb-4b56-ab1b-6be96ab7857e"
      },
      "outputs": [
        {
          "data": {
            "image/png": "[encoded data removed]",
            "text/plain": [
              "<Figure size 1000x600 with 1 Axes>"
            ]
          },
          "metadata": {},
          "output_type": "display_data"
        }
      ],
      "source": [
        "plt.figure(figsize=(10,6))\n",
        "plt.hist(df['Total Purchase Amount'], bins=30, color='skyblue', edgecolor='black')\n",
        "plt.title('Distribution of Transaction Amounts')\n",
        "plt.xlabel('Transaction Amount')\n",
        "plt.ylabel('Frequency')\n",
        "plt.grid(True)\n",
        "plt.tight_layout()\n",
        "plt.show()\n"
      ]
    },
    {
      "cell_type": "markdown",
      "metadata": {
        "id": "IxhazhChNRkN"
      },
      "source": [
        "**From Histogram that illustrates Transaction Distribution it shows that :**<br>\n",
        "**1. Data has a balanced distribution of transaction amounts.**<br>\n",
        "**2. Customers are spending across a wide range as there’s no heavy concentration in one particular value range which leads to that there is very very few outliers.**"
      ]
    },
    {
      "cell_type": "markdown",
      "metadata": {
        "id": "1O-l4e5KNRkN"
      },
      "source": [
        "**7.4 Compare sales performance across different regions over time**"
      ]
    },
    {
      "cell_type": "markdown",
      "metadata": {
        "id": "rfKNZBYCNRkN"
      },
      "source": [
        "**Dataset actually doesn't contain any location information, So let’s randomly generate a `Region` column that holds different name of countries**"
      ]
    },
    {
      "cell_type": "code",
      "execution_count": null,
      "metadata": {
        "id": "zZg-HKpnNRkN"
      },
      "outputs": [],
      "source": [
        "countries = ['Egypt', 'Saudi Arabia', 'UAE', 'Jordan', 'Morocco', 'Tunisia', 'Lebanon', 'Qatar','Kweit','Emirates']\n",
        "np.random.seed(42)\n",
        "df['Region'] = np.random.choice(countries, size=len(df))\n"
      ]
    },
    {
      "cell_type": "code",
      "execution_count": null,
      "metadata": {
        "id": "cNM_LDMxNRkN",
        "outputId": "9b584b06-ef01-46fd-f597-898d2dc6c3e2"
      },
      "outputs": [
        {
          "data": {
            "text/plain": [
              "0              Lebanon\n",
              "1               Jordan\n",
              "2                Qatar\n",
              "3              Morocco\n",
              "4              Lebanon\n",
              "              ...     \n",
              "249995         Tunisia\n",
              "249996    Saudi Arabia\n",
              "249997           Kweit\n",
              "249998           Qatar\n",
              "249999          Jordan\n",
              "Name: Region, Length: 202404, dtype: object"
            ]
          },
          "execution_count": 116,
          "metadata": {},
          "output_type": "execute_result"
        }
      ],
      "source": [
        "df['Region']"
      ]
    },
    {
      "cell_type": "code",
      "execution_count": null,
      "metadata": {
        "id": "cLwstFtHNRkN",
        "outputId": "a9c5e39a-b40b-4fbe-976b-7dc0e2b0b3e5"
      },
      "outputs": [
        {
          "name": "stdout",
          "output_type": "stream",
          "text": [
            "<class 'pandas.core.frame.DataFrame'>\n",
            "Index: 202404 entries, 0 to 249999\n",
            "Data columns (total 16 columns):\n",
            " #   Column                 Non-Null Count   Dtype         \n",
            "---  ------                 --------------   -----         \n",
            " 0   Customer ID            202404 non-null  int64         \n",
            " 1   Purchase Date          202404 non-null  datetime64[ns]\n",
            " 2   Product Category       202404 non-null  object        \n",
            " 3   Product Price          202404 non-null  int64         \n",
            " 4   Quantity               202404 non-null  int64         \n",
            " 5   Total Purchase Amount  202404 non-null  int64         \n",
            " 6   Payment Method         202404 non-null  object        \n",
            " 7   Customer Age           202404 non-null  int64         \n",
            " 8   Returns                202404 non-null  float64       \n",
            " 9   Customer Name          202404 non-null  object        \n",
            " 10  Gender                 202404 non-null  object        \n",
            " 11  Churn                  202404 non-null  int64         \n",
            " 12  year                   202404 non-null  int32         \n",
            " 13  month                  202404 non-null  int32         \n",
            " 14  day                    202404 non-null  object        \n",
            " 15  Region                 202404 non-null  object        \n",
            "dtypes: datetime64[ns](1), float64(1), int32(2), int64(6), object(6)\n",
            "memory usage: 24.7+ MB\n"
          ]
        }
      ],
      "source": [
        "df.info()"
      ]
    },
    {
      "cell_type": "code",
      "execution_count": null,
      "metadata": {
        "id": "ZWOnFaTDNRkO",
        "outputId": "8d838f17-16ca-47fb-e36d-5996178fd566"
      },
      "outputs": [
        {
          "data": {
            "text/html": [
              "<div>\n",
              "<style scoped>\n",
              "    .dataframe tbody tr th:only-of-type {\n",
              "        vertical-align: middle;\n",
              "    }\n",
              "\n",
              "    .dataframe tbody tr th {\n",
              "        vertical-align: top;\n",
              "    }\n",
              "\n",
              "    .dataframe thead th {\n",
              "        text-align: right;\n",
              "    }\n",
              "</style>\n",
              "<table border=\"1\" class=\"dataframe\">\n",
              "  <thead>\n",
              "    <tr style=\"text-align: right;\">\n",
              "      <th></th>\n",
              "      <th>month</th>\n",
              "      <th>Region</th>\n",
              "      <th>Total Purchase Amount</th>\n",
              "    </tr>\n",
              "  </thead>\n",
              "  <tbody>\n",
              "    <tr>\n",
              "      <th>0</th>\n",
              "      <td>1</td>\n",
              "      <td>Egypt</td>\n",
              "      <td>5027481</td>\n",
              "    </tr>\n",
              "    <tr>\n",
              "      <th>1</th>\n",
              "      <td>1</td>\n",
              "      <td>Emirates</td>\n",
              "      <td>5059574</td>\n",
              "    </tr>\n",
              "    <tr>\n",
              "      <th>2</th>\n",
              "      <td>1</td>\n",
              "      <td>Jordan</td>\n",
              "      <td>4900567</td>\n",
              "    </tr>\n",
              "    <tr>\n",
              "      <th>3</th>\n",
              "      <td>1</td>\n",
              "      <td>Kweit</td>\n",
              "      <td>5127513</td>\n",
              "    </tr>\n",
              "    <tr>\n",
              "      <th>4</th>\n",
              "      <td>1</td>\n",
              "      <td>Lebanon</td>\n",
              "      <td>4999194</td>\n",
              "    </tr>\n",
              "    <tr>\n",
              "      <th>...</th>\n",
              "      <td>...</td>\n",
              "      <td>...</td>\n",
              "      <td>...</td>\n",
              "    </tr>\n",
              "    <tr>\n",
              "      <th>115</th>\n",
              "      <td>12</td>\n",
              "      <td>Morocco</td>\n",
              "      <td>3648967</td>\n",
              "    </tr>\n",
              "    <tr>\n",
              "      <th>116</th>\n",
              "      <td>12</td>\n",
              "      <td>Qatar</td>\n",
              "      <td>3807964</td>\n",
              "    </tr>\n",
              "    <tr>\n",
              "      <th>117</th>\n",
              "      <td>12</td>\n",
              "      <td>Saudi Arabia</td>\n",
              "      <td>3993276</td>\n",
              "    </tr>\n",
              "    <tr>\n",
              "      <th>118</th>\n",
              "      <td>12</td>\n",
              "      <td>Tunisia</td>\n",
              "      <td>3817715</td>\n",
              "    </tr>\n",
              "    <tr>\n",
              "      <th>119</th>\n",
              "      <td>12</td>\n",
              "      <td>UAE</td>\n",
              "      <td>3815134</td>\n",
              "    </tr>\n",
              "  </tbody>\n",
              "</table>\n",
              "<p>120 rows × 3 columns</p>\n",
              "</div>"
            ],
            "text/plain": [
              "     month        Region  Total Purchase Amount\n",
              "0        1         Egypt                5027481\n",
              "1        1      Emirates                5059574\n",
              "2        1        Jordan                4900567\n",
              "3        1         Kweit                5127513\n",
              "4        1       Lebanon                4999194\n",
              "..     ...           ...                    ...\n",
              "115     12       Morocco                3648967\n",
              "116     12         Qatar                3807964\n",
              "117     12  Saudi Arabia                3993276\n",
              "118     12       Tunisia                3817715\n",
              "119     12           UAE                3815134\n",
              "\n",
              "[120 rows x 3 columns]"
            ]
          },
          "execution_count": 118,
          "metadata": {},
          "output_type": "execute_result"
        }
      ],
      "source": [
        "region_sales_per_month = df.groupby(['month', 'Region'])['Total Purchase Amount'].sum().reset_index()\n",
        "region_sales_per_month"
      ]
    },
    {
      "cell_type": "code",
      "execution_count": null,
      "metadata": {
        "id": "VZ1yAvvUNRkO",
        "outputId": "039ded51-c080-49f9-cb31-0b4dfa0e1c1f"
      },
      "outputs": [
        {
          "data": {
            "text/html": [
              "<div>\n",
              "<style scoped>\n",
              "    .dataframe tbody tr th:only-of-type {\n",
              "        vertical-align: middle;\n",
              "    }\n",
              "\n",
              "    .dataframe tbody tr th {\n",
              "        vertical-align: top;\n",
              "    }\n",
              "\n",
              "    .dataframe thead th {\n",
              "        text-align: right;\n",
              "    }\n",
              "</style>\n",
              "<table border=\"1\" class=\"dataframe\">\n",
              "  <thead>\n",
              "    <tr style=\"text-align: right;\">\n",
              "      <th>Region</th>\n",
              "      <th>Egypt</th>\n",
              "      <th>Emirates</th>\n",
              "      <th>Jordan</th>\n",
              "      <th>Kweit</th>\n",
              "      <th>Lebanon</th>\n",
              "      <th>Morocco</th>\n",
              "      <th>Qatar</th>\n",
              "      <th>Saudi Arabia</th>\n",
              "      <th>Tunisia</th>\n",
              "      <th>UAE</th>\n",
              "    </tr>\n",
              "    <tr>\n",
              "      <th>month</th>\n",
              "      <th></th>\n",
              "      <th></th>\n",
              "      <th></th>\n",
              "      <th></th>\n",
              "      <th></th>\n",
              "      <th></th>\n",
              "      <th></th>\n",
              "      <th></th>\n",
              "      <th></th>\n",
              "      <th></th>\n",
              "    </tr>\n",
              "  </thead>\n",
              "  <tbody>\n",
              "    <tr>\n",
              "      <th>1</th>\n",
              "      <td>5027481</td>\n",
              "      <td>5059574</td>\n",
              "      <td>4900567</td>\n",
              "      <td>5127513</td>\n",
              "      <td>4999194</td>\n",
              "      <td>5088565</td>\n",
              "      <td>5046893</td>\n",
              "      <td>5227628</td>\n",
              "      <td>4941265</td>\n",
              "      <td>5089433</td>\n",
              "    </tr>\n",
              "    <tr>\n",
              "      <th>2</th>\n",
              "      <td>4765152</td>\n",
              "      <td>4756766</td>\n",
              "      <td>4634149</td>\n",
              "      <td>4506799</td>\n",
              "      <td>4841570</td>\n",
              "      <td>4638237</td>\n",
              "      <td>4524493</td>\n",
              "      <td>4568821</td>\n",
              "      <td>4495457</td>\n",
              "      <td>4622225</td>\n",
              "    </tr>\n",
              "    <tr>\n",
              "      <th>3</th>\n",
              "      <td>5286561</td>\n",
              "      <td>5299301</td>\n",
              "      <td>5102989</td>\n",
              "      <td>5156421</td>\n",
              "      <td>5064978</td>\n",
              "      <td>4984822</td>\n",
              "      <td>5064948</td>\n",
              "      <td>4973250</td>\n",
              "      <td>5146892</td>\n",
              "      <td>4966610</td>\n",
              "    </tr>\n",
              "    <tr>\n",
              "      <th>4</th>\n",
              "      <td>4597555</td>\n",
              "      <td>5056025</td>\n",
              "      <td>4837375</td>\n",
              "      <td>4940662</td>\n",
              "      <td>4836606</td>\n",
              "      <td>4857224</td>\n",
              "      <td>4749967</td>\n",
              "      <td>4876817</td>\n",
              "      <td>4899016</td>\n",
              "      <td>4719094</td>\n",
              "    </tr>\n",
              "    <tr>\n",
              "      <th>5</th>\n",
              "      <td>4913030</td>\n",
              "      <td>4920499</td>\n",
              "      <td>5175356</td>\n",
              "      <td>4931202</td>\n",
              "      <td>4982331</td>\n",
              "      <td>5156065</td>\n",
              "      <td>4898338</td>\n",
              "      <td>5017768</td>\n",
              "      <td>5151266</td>\n",
              "      <td>5057664</td>\n",
              "    </tr>\n",
              "    <tr>\n",
              "      <th>6</th>\n",
              "      <td>4906485</td>\n",
              "      <td>4970547</td>\n",
              "      <td>5132233</td>\n",
              "      <td>5155192</td>\n",
              "      <td>4718930</td>\n",
              "      <td>4777207</td>\n",
              "      <td>4882062</td>\n",
              "      <td>5140935</td>\n",
              "      <td>5024982</td>\n",
              "      <td>4738138</td>\n",
              "    </tr>\n",
              "    <tr>\n",
              "      <th>7</th>\n",
              "      <td>5243654</td>\n",
              "      <td>4976280</td>\n",
              "      <td>5056479</td>\n",
              "      <td>5108554</td>\n",
              "      <td>5073028</td>\n",
              "      <td>5200501</td>\n",
              "      <td>5210534</td>\n",
              "      <td>4814249</td>\n",
              "      <td>5010493</td>\n",
              "      <td>4976882</td>\n",
              "    </tr>\n",
              "    <tr>\n",
              "      <th>8</th>\n",
              "      <td>5188579</td>\n",
              "      <td>5081502</td>\n",
              "      <td>5004823</td>\n",
              "      <td>4884721</td>\n",
              "      <td>5113650</td>\n",
              "      <td>5125095</td>\n",
              "      <td>5199095</td>\n",
              "      <td>4875091</td>\n",
              "      <td>5022783</td>\n",
              "      <td>5013652</td>\n",
              "    </tr>\n",
              "    <tr>\n",
              "      <th>9</th>\n",
              "      <td>4280259</td>\n",
              "      <td>4297009</td>\n",
              "      <td>3906675</td>\n",
              "      <td>4104207</td>\n",
              "      <td>4171879</td>\n",
              "      <td>4364807</td>\n",
              "      <td>4177668</td>\n",
              "      <td>4308079</td>\n",
              "      <td>4249985</td>\n",
              "      <td>4111659</td>\n",
              "    </tr>\n",
              "    <tr>\n",
              "      <th>10</th>\n",
              "      <td>3613781</td>\n",
              "      <td>3853117</td>\n",
              "      <td>3830470</td>\n",
              "      <td>3906759</td>\n",
              "      <td>3923101</td>\n",
              "      <td>3880324</td>\n",
              "      <td>3507046</td>\n",
              "      <td>3748637</td>\n",
              "      <td>3714778</td>\n",
              "      <td>3805271</td>\n",
              "    </tr>\n",
              "    <tr>\n",
              "      <th>11</th>\n",
              "      <td>3591983</td>\n",
              "      <td>3847728</td>\n",
              "      <td>3689235</td>\n",
              "      <td>3590764</td>\n",
              "      <td>3740941</td>\n",
              "      <td>3770707</td>\n",
              "      <td>3538714</td>\n",
              "      <td>3570379</td>\n",
              "      <td>3900434</td>\n",
              "      <td>3695421</td>\n",
              "    </tr>\n",
              "    <tr>\n",
              "      <th>12</th>\n",
              "      <td>3816559</td>\n",
              "      <td>3706499</td>\n",
              "      <td>3602853</td>\n",
              "      <td>3763361</td>\n",
              "      <td>3804462</td>\n",
              "      <td>3648967</td>\n",
              "      <td>3807964</td>\n",
              "      <td>3993276</td>\n",
              "      <td>3817715</td>\n",
              "      <td>3815134</td>\n",
              "    </tr>\n",
              "  </tbody>\n",
              "</table>\n",
              "</div>"
            ],
            "text/plain": [
              "Region    Egypt  Emirates   Jordan    Kweit  Lebanon  Morocco    Qatar  \\\n",
              "month                                                                    \n",
              "1       5027481   5059574  4900567  5127513  4999194  5088565  5046893   \n",
              "2       4765152   4756766  4634149  4506799  4841570  4638237  4524493   \n",
              "3       5286561   5299301  5102989  5156421  5064978  4984822  5064948   \n",
              "4       4597555   5056025  4837375  4940662  4836606  4857224  4749967   \n",
              "5       4913030   4920499  5175356  4931202  4982331  5156065  4898338   \n",
              "6       4906485   4970547  5132233  5155192  4718930  4777207  4882062   \n",
              "7       5243654   4976280  5056479  5108554  5073028  5200501  5210534   \n",
              "8       5188579   5081502  5004823  4884721  5113650  5125095  5199095   \n",
              "9       4280259   4297009  3906675  4104207  4171879  4364807  4177668   \n",
              "10      3613781   3853117  3830470  3906759  3923101  3880324  3507046   \n",
              "11      3591983   3847728  3689235  3590764  3740941  3770707  3538714   \n",
              "12      3816559   3706499  3602853  3763361  3804462  3648967  3807964   \n",
              "\n",
              "Region  Saudi Arabia  Tunisia      UAE  \n",
              "month                                   \n",
              "1            5227628  4941265  5089433  \n",
              "2            4568821  4495457  4622225  \n",
              "3            4973250  5146892  4966610  \n",
              "4            4876817  4899016  4719094  \n",
              "5            5017768  5151266  5057664  \n",
              "6            5140935  5024982  4738138  \n",
              "7            4814249  5010493  4976882  \n",
              "8            4875091  5022783  5013652  \n",
              "9            4308079  4249985  4111659  \n",
              "10           3748637  3714778  3805271  \n",
              "11           3570379  3900434  3695421  \n",
              "12           3993276  3817715  3815134  "
            ]
          },
          "execution_count": 119,
          "metadata": {},
          "output_type": "execute_result"
        }
      ],
      "source": [
        "pivot_df = region_sales_per_month.pivot(index='month', columns='Region', values='Total Purchase Amount')\n",
        "pivot_df"
      ]
    },
    {
      "cell_type": "code",
      "execution_count": null,
      "metadata": {
        "id": "AX80oOy6NRkO",
        "outputId": "7807bb4f-6cf6-49b9-e065-d0e322798eac"
      },
      "outputs": [
        {
          "data": {
            "image/png": "[encoded data removed]",
            "text/plain": [
              "<Figure size 1200x600 with 1 Axes>"
            ]
          },
          "metadata": {},
          "output_type": "display_data"
        }
      ],
      "source": [
        "pivot_df.plot(kind='area', stacked=True, figsize=(12, 6), colormap='Set3')\n",
        "plt.title('Monthly Sales Performance by Region')\n",
        "plt.xlabel('Month')\n",
        "plt.ylabel('Sales Amount')\n",
        "plt.xticks(rotation=45)  #\n",
        "plt.grid(True)\n",
        "plt.tight_layout()\n",
        "plt.show()"
      ]
    },
    {
      "cell_type": "markdown",
      "metadata": {
        "id": "nJoTptPHNRkO"
      },
      "source": [
        "# **8. More Advanced Analysis and Visualization**"
      ]
    },
    {
      "cell_type": "markdown",
      "metadata": {
        "id": "SyON-pY_NRkO"
      },
      "source": [
        "**8.1 Calculate  of customer retention rate based on repeat purchases**"
      ]
    },
    {
      "cell_type": "code",
      "execution_count": null,
      "metadata": {
        "id": "46ySWrGqNRkO",
        "outputId": "dd30d063-1603-44b4-f309-8ea05275f13a"
      },
      "outputs": [
        {
          "data": {
            "text/plain": [
              "49139"
            ]
          },
          "execution_count": 121,
          "metadata": {},
          "output_type": "execute_result"
        }
      ],
      "source": [
        "df['Customer ID'].nunique()"
      ]
    },
    {
      "cell_type": "code",
      "execution_count": null,
      "metadata": {
        "id": "ezpWjGN8NRkO",
        "outputId": "163a03db-131a-4946-ee53-bb3f8483518d"
      },
      "outputs": [
        {
          "data": {
            "text/plain": [
              "202404"
            ]
          },
          "execution_count": 122,
          "metadata": {},
          "output_type": "execute_result"
        }
      ],
      "source": [
        "len(df['Customer ID'])"
      ]
    },
    {
      "cell_type": "markdown",
      "metadata": {
        "id": "R5Z5ALTENRkO"
      },
      "source": [
        "**This ensures that that are more than `150000` repeated purchases**"
      ]
    },
    {
      "cell_type": "code",
      "execution_count": null,
      "metadata": {
        "id": "-lHx9tLiNRkO",
        "outputId": "59c63f9c-8eca-4f15-db42-c3cd05abfe8c"
      },
      "outputs": [
        {
          "data": {
            "text/plain": [
              "Customer ID\n",
              "1        1\n",
              "2        2\n",
              "3        7\n",
              "4        1\n",
              "5        6\n",
              "        ..\n",
              "49996    3\n",
              "49997    7\n",
              "49998    2\n",
              "49999    1\n",
              "50000    1\n",
              "Name: Purchase Date, Length: 49139, dtype: int64"
            ]
          },
          "execution_count": 125,
          "metadata": {},
          "output_type": "execute_result"
        }
      ],
      "source": [
        "customer_purchases=df.groupby('Customer ID')['Purchase Date'].count()\n",
        "customer_purchases"
      ]
    },
    {
      "cell_type": "code",
      "execution_count": null,
      "metadata": {
        "id": "j8lNTg8UNRkO",
        "outputId": "372dc54e-0211-4332-d50c-f211f998c5e8"
      },
      "outputs": [
        {
          "data": {
            "text/plain": [
              "45613"
            ]
          },
          "execution_count": 128,
          "metadata": {},
          "output_type": "execute_result"
        }
      ],
      "source": [
        "repeated_customers=customer_purchases[customer_purchases>1].count()\n",
        "repeated_customers"
      ]
    },
    {
      "cell_type": "code",
      "execution_count": null,
      "metadata": {
        "id": "bEkYh735NRkO",
        "outputId": "467b68d0-9f7d-4578-df79-ac814f49f100"
      },
      "outputs": [
        {
          "data": {
            "text/plain": [
              "49139"
            ]
          },
          "execution_count": 130,
          "metadata": {},
          "output_type": "execute_result"
        }
      ],
      "source": [
        "total_customers = customer_purchases.count()\n",
        "total_customers"
      ]
    },
    {
      "cell_type": "code",
      "execution_count": null,
      "metadata": {
        "id": "_fZAhHgnNRkO",
        "outputId": "761c9b78-48ee-4072-9801-6383c61526c6"
      },
      "outputs": [
        {
          "name": "stdout",
          "output_type": "stream",
          "text": [
            "Customer Retention Rate: 92.82443680172572 %\n"
          ]
        }
      ],
      "source": [
        "retention_rate = (repeated_customers / total_customers) * 100\n",
        "print(f\"Customer Retention Rate: {retention_rate} %\")"
      ]
    },
    {
      "cell_type": "markdown",
      "metadata": {
        "id": "Ij_uAcoBNRkP"
      },
      "source": [
        "**8.2 Compare average spending per region**"
      ]
    },
    {
      "cell_type": "code",
      "execution_count": null,
      "metadata": {
        "id": "KR-J_yG2NRkP",
        "outputId": "7574772a-2395-4770-ccd5-3df7ef678e1d"
      },
      "outputs": [
        {
          "data": {
            "text/html": [
              "<div>\n",
              "<style scoped>\n",
              "    .dataframe tbody tr th:only-of-type {\n",
              "        vertical-align: middle;\n",
              "    }\n",
              "\n",
              "    .dataframe tbody tr th {\n",
              "        vertical-align: top;\n",
              "    }\n",
              "\n",
              "    .dataframe thead th {\n",
              "        text-align: right;\n",
              "    }\n",
              "</style>\n",
              "<table border=\"1\" class=\"dataframe\">\n",
              "  <thead>\n",
              "    <tr style=\"text-align: right;\">\n",
              "      <th></th>\n",
              "      <th>Region</th>\n",
              "      <th>Total Purchase Amount</th>\n",
              "    </tr>\n",
              "  </thead>\n",
              "  <tbody>\n",
              "    <tr>\n",
              "      <th>0</th>\n",
              "      <td>Egypt</td>\n",
              "      <td>2724.500740</td>\n",
              "    </tr>\n",
              "    <tr>\n",
              "      <th>1</th>\n",
              "      <td>Emirates</td>\n",
              "      <td>2721.702842</td>\n",
              "    </tr>\n",
              "    <tr>\n",
              "      <th>2</th>\n",
              "      <td>Jordan</td>\n",
              "      <td>2721.480137</td>\n",
              "    </tr>\n",
              "    <tr>\n",
              "      <th>3</th>\n",
              "      <td>Kweit</td>\n",
              "      <td>2746.995669</td>\n",
              "    </tr>\n",
              "    <tr>\n",
              "      <th>4</th>\n",
              "      <td>Lebanon</td>\n",
              "      <td>2719.879435</td>\n",
              "    </tr>\n",
              "    <tr>\n",
              "      <th>5</th>\n",
              "      <td>Morocco</td>\n",
              "      <td>2726.637235</td>\n",
              "    </tr>\n",
              "    <tr>\n",
              "      <th>6</th>\n",
              "      <td>Qatar</td>\n",
              "      <td>2720.863079</td>\n",
              "    </tr>\n",
              "    <tr>\n",
              "      <th>7</th>\n",
              "      <td>Saudi Arabia</td>\n",
              "      <td>2717.832733</td>\n",
              "    </tr>\n",
              "    <tr>\n",
              "      <th>8</th>\n",
              "      <td>Tunisia</td>\n",
              "      <td>2728.373374</td>\n",
              "    </tr>\n",
              "    <tr>\n",
              "      <th>9</th>\n",
              "      <td>UAE</td>\n",
              "      <td>2723.206492</td>\n",
              "    </tr>\n",
              "  </tbody>\n",
              "</table>\n",
              "</div>"
            ],
            "text/plain": [
              "         Region  Total Purchase Amount\n",
              "0         Egypt            2724.500740\n",
              "1      Emirates            2721.702842\n",
              "2        Jordan            2721.480137\n",
              "3         Kweit            2746.995669\n",
              "4       Lebanon            2719.879435\n",
              "5       Morocco            2726.637235\n",
              "6         Qatar            2720.863079\n",
              "7  Saudi Arabia            2717.832733\n",
              "8       Tunisia            2728.373374\n",
              "9           UAE            2723.206492"
            ]
          },
          "execution_count": 139,
          "metadata": {},
          "output_type": "execute_result"
        }
      ],
      "source": [
        "average_per_region=df.groupby('Region')['Total Purchase Amount'].mean().reset_index()\n",
        "average_per_region"
      ]
    },
    {
      "cell_type": "markdown",
      "metadata": {
        "id": "gRQA7XIANRkP"
      },
      "source": [
        "**visualization for better comparison**"
      ]
    },
    {
      "cell_type": "code",
      "execution_count": null,
      "metadata": {
        "id": "Ppabiv_ENRkP",
        "outputId": "048e1443-429e-4685-9251-0db6d98748f2"
      },
      "outputs": [
        {
          "data": {
            "image/png": "[encoded data removed]",
            "text/plain": [
              "<Figure size 1000x600 with 1 Axes>"
            ]
          },
          "metadata": {},
          "output_type": "display_data"
        }
      ],
      "source": [
        "plt.figure(figsize=(10, 6))\n",
        "plt.bar(average_per_region['Region'], average_per_region['Total Purchase Amount'], color='skyblue')\n",
        "plt.title('Average Spending per Region')\n",
        "plt.xlabel('Region')\n",
        "plt.ylabel('Average Purchase Amount')\n",
        "plt.xticks(rotation=45)\n",
        "plt.show()\n"
      ]
    },
    {
      "cell_type": "markdown",
      "metadata": {
        "id": "5IhZQGTYNRkP"
      },
      "source": [
        "**8.3  Analyze the correlation between the number of units purchased and the total amount spent**"
      ]
    },
    {
      "cell_type": "code",
      "execution_count": null,
      "metadata": {
        "id": "sY_eDJu4NRkP",
        "outputId": "2422a02f-ddc9-46ee-c625-3cf805c33ca7"
      },
      "outputs": [
        {
          "name": "stdout",
          "output_type": "stream",
          "text": [
            " Correlation between Units Purchased and Total Purchase Amount: 0.0011936625666869405\n"
          ]
        }
      ],
      "source": [
        "correlation = df['Quantity'].corr(df['Total Purchase Amount'])\n",
        "\n",
        "print(f\" Correlation between Units Purchased and Total Purchase Amount: {correlation}\")"
      ]
    },
    {
      "cell_type": "markdown",
      "metadata": {
        "id": "Ot3A4ZzlNRkP"
      },
      "source": [
        "**8.4  Heatmap  to show sales trends by weekday and hour**"
      ]
    },
    {
      "cell_type": "markdown",
      "metadata": {
        "id": "VvL1yKAHNRkP"
      },
      "source": [
        "**first we need to extrct hour from date as we extracted before yeas,month,weekday**"
      ]
    },
    {
      "cell_type": "code",
      "execution_count": null,
      "metadata": {
        "id": "hW1vnOPVNRkP",
        "outputId": "b74459f5-552e-47a8-9c46-4ae72d890151"
      },
      "outputs": [
        {
          "data": {
            "text/plain": [
              "0        2020-09-08 09:38:32\n",
              "1        2022-03-05 12:56:35\n",
              "2        2022-05-23 18:18:01\n",
              "3        2020-11-12 13:13:29\n",
              "4        2020-11-27 17:55:11\n",
              "                 ...        \n",
              "249995   2023-08-10 13:39:06\n",
              "249996   2021-11-23 01:30:42\n",
              "249997   2020-07-02 14:04:48\n",
              "249998   2020-12-30 02:02:40\n",
              "249999   2021-03-13 16:28:35\n",
              "Name: Purchase Date, Length: 202404, dtype: datetime64[ns]"
            ]
          },
          "execution_count": 171,
          "metadata": {},
          "output_type": "execute_result"
        }
      ],
      "source": [
        "df['Purchase Date']"
      ]
    },
    {
      "cell_type": "code",
      "execution_count": null,
      "metadata": {
        "id": "VsCgKzbBNRkP",
        "outputId": "687751c9-768a-4a15-add0-4ae5143156cb"
      },
      "outputs": [
        {
          "data": {
            "text/plain": [
              "0          9\n",
              "1         12\n",
              "2         18\n",
              "3         13\n",
              "4         17\n",
              "          ..\n",
              "249995    13\n",
              "249996     1\n",
              "249997    14\n",
              "249998     2\n",
              "249999    16\n",
              "Name: hour, Length: 202404, dtype: int32"
            ]
          },
          "execution_count": 170,
          "metadata": {},
          "output_type": "execute_result"
        }
      ],
      "source": [
        "df['hour'] = df['Purchase Date'].dt.hour\n",
        "df['hour']"
      ]
    },
    {
      "cell_type": "code",
      "execution_count": null,
      "metadata": {
        "id": "JEFb5hibNRkP",
        "outputId": "ce8531c7-d974-40d8-bbc5-9ab3b612234a"
      },
      "outputs": [
        {
          "data": {
            "text/html": [
              "<div>\n",
              "<style scoped>\n",
              "    .dataframe tbody tr th:only-of-type {\n",
              "        vertical-align: middle;\n",
              "    }\n",
              "\n",
              "    .dataframe tbody tr th {\n",
              "        vertical-align: top;\n",
              "    }\n",
              "\n",
              "    .dataframe thead th {\n",
              "        text-align: right;\n",
              "    }\n",
              "</style>\n",
              "<table border=\"1\" class=\"dataframe\">\n",
              "  <thead>\n",
              "    <tr style=\"text-align: right;\">\n",
              "      <th></th>\n",
              "      <th>day</th>\n",
              "      <th>hour</th>\n",
              "      <th>Total Purchase Amount</th>\n",
              "    </tr>\n",
              "  </thead>\n",
              "  <tbody>\n",
              "    <tr>\n",
              "      <th>0</th>\n",
              "      <td>Friday</td>\n",
              "      <td>0</td>\n",
              "      <td>3377309</td>\n",
              "    </tr>\n",
              "    <tr>\n",
              "      <th>1</th>\n",
              "      <td>Friday</td>\n",
              "      <td>1</td>\n",
              "      <td>3467581</td>\n",
              "    </tr>\n",
              "    <tr>\n",
              "      <th>2</th>\n",
              "      <td>Friday</td>\n",
              "      <td>2</td>\n",
              "      <td>3232485</td>\n",
              "    </tr>\n",
              "    <tr>\n",
              "      <th>3</th>\n",
              "      <td>Friday</td>\n",
              "      <td>3</td>\n",
              "      <td>3597941</td>\n",
              "    </tr>\n",
              "    <tr>\n",
              "      <th>4</th>\n",
              "      <td>Friday</td>\n",
              "      <td>4</td>\n",
              "      <td>3326492</td>\n",
              "    </tr>\n",
              "    <tr>\n",
              "      <th>...</th>\n",
              "      <td>...</td>\n",
              "      <td>...</td>\n",
              "      <td>...</td>\n",
              "    </tr>\n",
              "    <tr>\n",
              "      <th>163</th>\n",
              "      <td>Wednesday</td>\n",
              "      <td>19</td>\n",
              "      <td>3222363</td>\n",
              "    </tr>\n",
              "    <tr>\n",
              "      <th>164</th>\n",
              "      <td>Wednesday</td>\n",
              "      <td>20</td>\n",
              "      <td>3308626</td>\n",
              "    </tr>\n",
              "    <tr>\n",
              "      <th>165</th>\n",
              "      <td>Wednesday</td>\n",
              "      <td>21</td>\n",
              "      <td>3129427</td>\n",
              "    </tr>\n",
              "    <tr>\n",
              "      <th>166</th>\n",
              "      <td>Wednesday</td>\n",
              "      <td>22</td>\n",
              "      <td>3230848</td>\n",
              "    </tr>\n",
              "    <tr>\n",
              "      <th>167</th>\n",
              "      <td>Wednesday</td>\n",
              "      <td>23</td>\n",
              "      <td>3228220</td>\n",
              "    </tr>\n",
              "  </tbody>\n",
              "</table>\n",
              "<p>168 rows × 3 columns</p>\n",
              "</div>"
            ],
            "text/plain": [
              "           day  hour  Total Purchase Amount\n",
              "0       Friday     0                3377309\n",
              "1       Friday     1                3467581\n",
              "2       Friday     2                3232485\n",
              "3       Friday     3                3597941\n",
              "4       Friday     4                3326492\n",
              "..         ...   ...                    ...\n",
              "163  Wednesday    19                3222363\n",
              "164  Wednesday    20                3308626\n",
              "165  Wednesday    21                3129427\n",
              "166  Wednesday    22                3230848\n",
              "167  Wednesday    23                3228220\n",
              "\n",
              "[168 rows x 3 columns]"
            ]
          },
          "execution_count": 172,
          "metadata": {},
          "output_type": "execute_result"
        }
      ],
      "source": [
        "sales_by_day_hour = df.groupby(['day', 'hour'])['Total Purchase Amount'].sum().reset_index()\n",
        "sales_by_day_hour"
      ]
    },
    {
      "cell_type": "code",
      "execution_count": null,
      "metadata": {
        "id": "j_N_HvDHNRkP",
        "outputId": "19c29344-4e01-457e-deae-274225dc1128"
      },
      "outputs": [
        {
          "data": {
            "text/html": [
              "<div>\n",
              "<style scoped>\n",
              "    .dataframe tbody tr th:only-of-type {\n",
              "        vertical-align: middle;\n",
              "    }\n",
              "\n",
              "    .dataframe tbody tr th {\n",
              "        vertical-align: top;\n",
              "    }\n",
              "\n",
              "    .dataframe thead th {\n",
              "        text-align: right;\n",
              "    }\n",
              "</style>\n",
              "<table border=\"1\" class=\"dataframe\">\n",
              "  <thead>\n",
              "    <tr style=\"text-align: right;\">\n",
              "      <th>hour</th>\n",
              "      <th>0</th>\n",
              "      <th>1</th>\n",
              "      <th>2</th>\n",
              "      <th>3</th>\n",
              "      <th>4</th>\n",
              "      <th>5</th>\n",
              "      <th>6</th>\n",
              "      <th>7</th>\n",
              "      <th>8</th>\n",
              "      <th>9</th>\n",
              "      <th>...</th>\n",
              "      <th>14</th>\n",
              "      <th>15</th>\n",
              "      <th>16</th>\n",
              "      <th>17</th>\n",
              "      <th>18</th>\n",
              "      <th>19</th>\n",
              "      <th>20</th>\n",
              "      <th>21</th>\n",
              "      <th>22</th>\n",
              "      <th>23</th>\n",
              "    </tr>\n",
              "    <tr>\n",
              "      <th>day</th>\n",
              "      <th></th>\n",
              "      <th></th>\n",
              "      <th></th>\n",
              "      <th></th>\n",
              "      <th></th>\n",
              "      <th></th>\n",
              "      <th></th>\n",
              "      <th></th>\n",
              "      <th></th>\n",
              "      <th></th>\n",
              "      <th></th>\n",
              "      <th></th>\n",
              "      <th></th>\n",
              "      <th></th>\n",
              "      <th></th>\n",
              "      <th></th>\n",
              "      <th></th>\n",
              "      <th></th>\n",
              "      <th></th>\n",
              "      <th></th>\n",
              "      <th></th>\n",
              "    </tr>\n",
              "  </thead>\n",
              "  <tbody>\n",
              "    <tr>\n",
              "      <th>Friday</th>\n",
              "      <td>3377309</td>\n",
              "      <td>3467581</td>\n",
              "      <td>3232485</td>\n",
              "      <td>3597941</td>\n",
              "      <td>3326492</td>\n",
              "      <td>3073339</td>\n",
              "      <td>3154048</td>\n",
              "      <td>3547763</td>\n",
              "      <td>3318373</td>\n",
              "      <td>3220009</td>\n",
              "      <td>...</td>\n",
              "      <td>3249828</td>\n",
              "      <td>3527937</td>\n",
              "      <td>3415904</td>\n",
              "      <td>3448327</td>\n",
              "      <td>3296838</td>\n",
              "      <td>3207478</td>\n",
              "      <td>3268410</td>\n",
              "      <td>3239263</td>\n",
              "      <td>3368472</td>\n",
              "      <td>3102958</td>\n",
              "    </tr>\n",
              "    <tr>\n",
              "      <th>Monday</th>\n",
              "      <td>3334599</td>\n",
              "      <td>3128395</td>\n",
              "      <td>3207961</td>\n",
              "      <td>3179375</td>\n",
              "      <td>3046219</td>\n",
              "      <td>3235292</td>\n",
              "      <td>3524275</td>\n",
              "      <td>3334769</td>\n",
              "      <td>3400706</td>\n",
              "      <td>3122066</td>\n",
              "      <td>...</td>\n",
              "      <td>3259300</td>\n",
              "      <td>3362172</td>\n",
              "      <td>3303168</td>\n",
              "      <td>3426472</td>\n",
              "      <td>3292499</td>\n",
              "      <td>3180120</td>\n",
              "      <td>3142952</td>\n",
              "      <td>3283182</td>\n",
              "      <td>3445922</td>\n",
              "      <td>3456257</td>\n",
              "    </tr>\n",
              "    <tr>\n",
              "      <th>Saturday</th>\n",
              "      <td>3187144</td>\n",
              "      <td>3372087</td>\n",
              "      <td>3553506</td>\n",
              "      <td>3293684</td>\n",
              "      <td>3281152</td>\n",
              "      <td>3143152</td>\n",
              "      <td>3231603</td>\n",
              "      <td>3342089</td>\n",
              "      <td>3210955</td>\n",
              "      <td>3299610</td>\n",
              "      <td>...</td>\n",
              "      <td>3095921</td>\n",
              "      <td>3160819</td>\n",
              "      <td>3320130</td>\n",
              "      <td>3408685</td>\n",
              "      <td>3416485</td>\n",
              "      <td>3287491</td>\n",
              "      <td>3183644</td>\n",
              "      <td>3368524</td>\n",
              "      <td>3253721</td>\n",
              "      <td>3419375</td>\n",
              "    </tr>\n",
              "    <tr>\n",
              "      <th>Sunday</th>\n",
              "      <td>3453005</td>\n",
              "      <td>3232555</td>\n",
              "      <td>3237678</td>\n",
              "      <td>3138776</td>\n",
              "      <td>3041753</td>\n",
              "      <td>3222807</td>\n",
              "      <td>3345037</td>\n",
              "      <td>3228903</td>\n",
              "      <td>3365879</td>\n",
              "      <td>3292319</td>\n",
              "      <td>...</td>\n",
              "      <td>3214457</td>\n",
              "      <td>3203495</td>\n",
              "      <td>3372826</td>\n",
              "      <td>3419696</td>\n",
              "      <td>3387806</td>\n",
              "      <td>3296480</td>\n",
              "      <td>3222164</td>\n",
              "      <td>3214053</td>\n",
              "      <td>3201011</td>\n",
              "      <td>3218155</td>\n",
              "    </tr>\n",
              "    <tr>\n",
              "      <th>Thursday</th>\n",
              "      <td>3444679</td>\n",
              "      <td>3210235</td>\n",
              "      <td>3212743</td>\n",
              "      <td>3130432</td>\n",
              "      <td>3290585</td>\n",
              "      <td>3285684</td>\n",
              "      <td>3355771</td>\n",
              "      <td>3367256</td>\n",
              "      <td>3338465</td>\n",
              "      <td>3080134</td>\n",
              "      <td>...</td>\n",
              "      <td>3258357</td>\n",
              "      <td>3374685</td>\n",
              "      <td>3298973</td>\n",
              "      <td>3276909</td>\n",
              "      <td>3405348</td>\n",
              "      <td>3205441</td>\n",
              "      <td>3462797</td>\n",
              "      <td>3231333</td>\n",
              "      <td>3272670</td>\n",
              "      <td>3217998</td>\n",
              "    </tr>\n",
              "    <tr>\n",
              "      <th>Tuesday</th>\n",
              "      <td>3333832</td>\n",
              "      <td>3452887</td>\n",
              "      <td>3318139</td>\n",
              "      <td>3216909</td>\n",
              "      <td>3128654</td>\n",
              "      <td>3285725</td>\n",
              "      <td>3214392</td>\n",
              "      <td>3386282</td>\n",
              "      <td>3413470</td>\n",
              "      <td>3243990</td>\n",
              "      <td>...</td>\n",
              "      <td>3455367</td>\n",
              "      <td>3132103</td>\n",
              "      <td>3274323</td>\n",
              "      <td>3264035</td>\n",
              "      <td>3150752</td>\n",
              "      <td>3316962</td>\n",
              "      <td>3152139</td>\n",
              "      <td>3301904</td>\n",
              "      <td>3293122</td>\n",
              "      <td>3221517</td>\n",
              "    </tr>\n",
              "    <tr>\n",
              "      <th>Wednesday</th>\n",
              "      <td>3328571</td>\n",
              "      <td>3141281</td>\n",
              "      <td>3035295</td>\n",
              "      <td>3431523</td>\n",
              "      <td>3360181</td>\n",
              "      <td>3232474</td>\n",
              "      <td>3291144</td>\n",
              "      <td>3281321</td>\n",
              "      <td>3377886</td>\n",
              "      <td>3422361</td>\n",
              "      <td>...</td>\n",
              "      <td>3245057</td>\n",
              "      <td>3259746</td>\n",
              "      <td>3649603</td>\n",
              "      <td>3490703</td>\n",
              "      <td>3415334</td>\n",
              "      <td>3222363</td>\n",
              "      <td>3308626</td>\n",
              "      <td>3129427</td>\n",
              "      <td>3230848</td>\n",
              "      <td>3228220</td>\n",
              "    </tr>\n",
              "  </tbody>\n",
              "</table>\n",
              "<p>7 rows × 24 columns</p>\n",
              "</div>"
            ],
            "text/plain": [
              "hour            0        1        2        3        4        5        6   \\\n",
              "day                                                                        \n",
              "Friday     3377309  3467581  3232485  3597941  3326492  3073339  3154048   \n",
              "Monday     3334599  3128395  3207961  3179375  3046219  3235292  3524275   \n",
              "Saturday   3187144  3372087  3553506  3293684  3281152  3143152  3231603   \n",
              "Sunday     3453005  3232555  3237678  3138776  3041753  3222807  3345037   \n",
              "Thursday   3444679  3210235  3212743  3130432  3290585  3285684  3355771   \n",
              "Tuesday    3333832  3452887  3318139  3216909  3128654  3285725  3214392   \n",
              "Wednesday  3328571  3141281  3035295  3431523  3360181  3232474  3291144   \n",
              "\n",
              "hour            7        8        9   ...       14       15       16       17  \\\n",
              "day                                   ...                                       \n",
              "Friday     3547763  3318373  3220009  ...  3249828  3527937  3415904  3448327   \n",
              "Monday     3334769  3400706  3122066  ...  3259300  3362172  3303168  3426472   \n",
              "Saturday   3342089  3210955  3299610  ...  3095921  3160819  3320130  3408685   \n",
              "Sunday     3228903  3365879  3292319  ...  3214457  3203495  3372826  3419696   \n",
              "Thursday   3367256  3338465  3080134  ...  3258357  3374685  3298973  3276909   \n",
              "Tuesday    3386282  3413470  3243990  ...  3455367  3132103  3274323  3264035   \n",
              "Wednesday  3281321  3377886  3422361  ...  3245057  3259746  3649603  3490703   \n",
              "\n",
              "hour            18       19       20       21       22       23  \n",
              "day                                                              \n",
              "Friday     3296838  3207478  3268410  3239263  3368472  3102958  \n",
              "Monday     3292499  3180120  3142952  3283182  3445922  3456257  \n",
              "Saturday   3416485  3287491  3183644  3368524  3253721  3419375  \n",
              "Sunday     3387806  3296480  3222164  3214053  3201011  3218155  \n",
              "Thursday   3405348  3205441  3462797  3231333  3272670  3217998  \n",
              "Tuesday    3150752  3316962  3152139  3301904  3293122  3221517  \n",
              "Wednesday  3415334  3222363  3308626  3129427  3230848  3228220  \n",
              "\n",
              "[7 rows x 24 columns]"
            ]
          },
          "execution_count": 176,
          "metadata": {},
          "output_type": "execute_result"
        }
      ],
      "source": [
        "sales_pivot = sales_by_day_hour.pivot(index='day', columns='hour', values='Total Purchase Amount')\n",
        "sales_pivot"
      ]
    },
    {
      "cell_type": "code",
      "execution_count": null,
      "metadata": {
        "id": "0Qj99o_ENRkP",
        "outputId": "a16f0652-c7ae-472a-a046-a7df309a5ece"
      },
      "outputs": [
        {
          "data": {
            "image/png": "[encoded data removed]",
            "text/plain": [
              "<Figure size 1200x1200 with 2 Axes>"
            ]
          },
          "metadata": {},
          "output_type": "display_data"
        }
      ],
      "source": [
        "plt.figure(figsize=(12, 12))\n",
        "sns.heatmap(sales_pivot, annot=True, fmt='.0f', cmap='YlGnBu', linewidths=1, cbar_kws={'label': 'Total Sales'})\n",
        "plt.title('Sales Trends by Weekday and Hour')\n",
        "plt.xlabel('Hour of Day')\n",
        "plt.ylabel('Day of Week')\n",
        "plt.tight_layout()\n",
        "plt.show()\n",
        "\n",
        "mt=',.0f'"
      ]
    },
    {
      "cell_type": "code",
      "execution_count": null,
      "metadata": {
        "id": "d9DWQLDTNRkQ"
      },
      "outputs": [],
      "source": []
    }
  ],
  "metadata": {
    "kernelspec": {
      "display_name": "Python 3",
      "language": "python",
      "name": "python3"
    },
    "language_info": {
      "codemirror_mode": {
        "name": "ipython",
        "version": 3
      },
      "file_extension": ".py",
      "mimetype": "text/x-python",
      "name": "python",
      "nbconvert_exporter": "python",
      "pygments_lexer": "ipython3",
      "version": "3.10.11"
    },
    "colab": {
      "provenance": [],
      "include_colab_link": true
    }
  },
  "nbformat": 4,
  "nbformat_minor": 0
}